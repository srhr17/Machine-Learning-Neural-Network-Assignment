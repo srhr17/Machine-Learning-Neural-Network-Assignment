{
  "nbformat": 4,
  "nbformat_minor": 0,
  "metadata": {
    "colab": {
      "provenance": []
    },
    "kernelspec": {
      "name": "python3",
      "display_name": "Python 3"
    },
    "language_info": {
      "name": "python"
    }
  },
  "cells": [
    {
      "cell_type": "code",
      "execution_count": 1,
      "metadata": {
        "id": "QX68Po0xLBNH"
      },
      "outputs": [],
      "source": [
        "import pandas as pd\n",
        "import matplotlib.pyplot as plt\n",
        "from keras.models import Sequential\n",
        "from keras.layers import Dense,Dropout\n",
        "from keras.callbacks import EarlyStopping\n",
        "from sklearn.model_selection import train_test_split\n",
        "from sklearn.metrics import r2_score,mean_squared_error"
      ]
    },
    {
      "cell_type": "markdown",
      "source": [
        "Reading the Annotated Data"
      ],
      "metadata": {
        "id": "oW9Bmh-HIvhP"
      }
    },
    {
      "cell_type": "code",
      "source": [
        "df=pd.read_csv('https://raw.githubusercontent.com/srhr17/Machine-Learning-Neural-Network-Assignment/main/CollectedData_annotation.csv',index_col=0)"
      ],
      "metadata": {
        "id": "WpMVqD4qLVP3"
      },
      "execution_count": 2,
      "outputs": []
    },
    {
      "cell_type": "code",
      "source": [
        "df.head()"
      ],
      "metadata": {
        "colab": {
          "base_uri": "https://localhost:8080/",
          "height": 383
        },
        "id": "-eGGYiHqLclV",
        "outputId": "c4ca5e99-3844-4f79-eb5c-d4c2676b1647"
      },
      "execution_count": 3,
      "outputs": [
        {
          "output_type": "execute_result",
          "data": {
            "text/plain": [
              "              Unnamed: 1                                         Unnamed: 2  \\\n",
              "scorer                                                                        \n",
              "individuals          NaN                                                NaN   \n",
              "bodyparts            NaN                                                NaN   \n",
              "coords               NaN                                                NaN   \n",
              "labeled-data        85.0  A_male_in_a_new_cage_face_view_3_2022-08-10_15...   \n",
              "labeled-data        85.0  A_male_in_a_new_cage_face_view_3_2022-08-10_15...   \n",
              "\n",
              "                      annotation        annotation.1       annotation.2  \\\n",
              "scorer                                                                    \n",
              "individuals               mouse1              mouse1             mouse1   \n",
              "bodyparts                topleft             topleft          rightdown   \n",
              "coords                         x                   y                  x   \n",
              "labeled-data   235.0087604175184  187.39317491121764  481.7713439540003   \n",
              "labeled-data  234.60483979437058  204.14698358385942  457.6013604657909   \n",
              "\n",
              "                    annotation.3        annotation.4        annotation.5  \\\n",
              "scorer                                                                     \n",
              "individuals               mouse1              mouse1              mouse1   \n",
              "bodyparts              rightdown                nose                nose   \n",
              "coords                         y                   x                   y   \n",
              "labeled-data  315.30222050581585  418.38279038499576  211.16388249959422   \n",
              "labeled-data  307.42958263167503   439.6051500256412   300.3875872420512   \n",
              "\n",
              "                    annotation.6        annotation.7  ... annotation.26  \\\n",
              "scorer                                                ...                 \n",
              "individuals               mouse1              mouse1  ...        mouse2   \n",
              "bodyparts                leftear             leftear  ...      rightear   \n",
              "coords                         x                   y  ...             x   \n",
              "labeled-data  399.13983662297653  211.16388249959422  ...           NaN   \n",
              "labeled-data  455.25402866924964  232.31496514235448  ...           NaN   \n",
              "\n",
              "             annotation.27 annotation.28 annotation.29 annotation.30  \\\n",
              "scorer                                                                 \n",
              "individuals         mouse2        mouse2        mouse2        mouse2   \n",
              "bodyparts         rightear       leftHip       leftHip      rightHip   \n",
              "coords                   y             x             y             x   \n",
              "labeled-data           NaN           NaN           NaN           NaN   \n",
              "labeled-data           NaN           NaN           NaN           NaN   \n",
              "\n",
              "             annotation.31 annotation.32 annotation.33 annotation.34  \\\n",
              "scorer                                                                 \n",
              "individuals         mouse2        mouse2        mouse2        mouse2   \n",
              "bodyparts         rightHip      tailBase      tailBase       tailEnd   \n",
              "coords                   y             x             y             x   \n",
              "labeled-data           NaN           NaN           NaN           NaN   \n",
              "labeled-data           NaN           NaN           NaN           NaN   \n",
              "\n",
              "             annotation.35  \n",
              "scorer                      \n",
              "individuals         mouse2  \n",
              "bodyparts          tailEnd  \n",
              "coords                   y  \n",
              "labeled-data           NaN  \n",
              "labeled-data           NaN  \n",
              "\n",
              "[5 rows x 38 columns]"
            ],
            "text/html": [
              "\n",
              "  <div id=\"df-e46dbef6-7aee-4c33-9847-f6161e951e2b\">\n",
              "    <div class=\"colab-df-container\">\n",
              "      <div>\n",
              "<style scoped>\n",
              "    .dataframe tbody tr th:only-of-type {\n",
              "        vertical-align: middle;\n",
              "    }\n",
              "\n",
              "    .dataframe tbody tr th {\n",
              "        vertical-align: top;\n",
              "    }\n",
              "\n",
              "    .dataframe thead th {\n",
              "        text-align: right;\n",
              "    }\n",
              "</style>\n",
              "<table border=\"1\" class=\"dataframe\">\n",
              "  <thead>\n",
              "    <tr style=\"text-align: right;\">\n",
              "      <th></th>\n",
              "      <th>Unnamed: 1</th>\n",
              "      <th>Unnamed: 2</th>\n",
              "      <th>annotation</th>\n",
              "      <th>annotation.1</th>\n",
              "      <th>annotation.2</th>\n",
              "      <th>annotation.3</th>\n",
              "      <th>annotation.4</th>\n",
              "      <th>annotation.5</th>\n",
              "      <th>annotation.6</th>\n",
              "      <th>annotation.7</th>\n",
              "      <th>...</th>\n",
              "      <th>annotation.26</th>\n",
              "      <th>annotation.27</th>\n",
              "      <th>annotation.28</th>\n",
              "      <th>annotation.29</th>\n",
              "      <th>annotation.30</th>\n",
              "      <th>annotation.31</th>\n",
              "      <th>annotation.32</th>\n",
              "      <th>annotation.33</th>\n",
              "      <th>annotation.34</th>\n",
              "      <th>annotation.35</th>\n",
              "    </tr>\n",
              "    <tr>\n",
              "      <th>scorer</th>\n",
              "      <th></th>\n",
              "      <th></th>\n",
              "      <th></th>\n",
              "      <th></th>\n",
              "      <th></th>\n",
              "      <th></th>\n",
              "      <th></th>\n",
              "      <th></th>\n",
              "      <th></th>\n",
              "      <th></th>\n",
              "      <th></th>\n",
              "      <th></th>\n",
              "      <th></th>\n",
              "      <th></th>\n",
              "      <th></th>\n",
              "      <th></th>\n",
              "      <th></th>\n",
              "      <th></th>\n",
              "      <th></th>\n",
              "      <th></th>\n",
              "      <th></th>\n",
              "    </tr>\n",
              "  </thead>\n",
              "  <tbody>\n",
              "    <tr>\n",
              "      <th>individuals</th>\n",
              "      <td>NaN</td>\n",
              "      <td>NaN</td>\n",
              "      <td>mouse1</td>\n",
              "      <td>mouse1</td>\n",
              "      <td>mouse1</td>\n",
              "      <td>mouse1</td>\n",
              "      <td>mouse1</td>\n",
              "      <td>mouse1</td>\n",
              "      <td>mouse1</td>\n",
              "      <td>mouse1</td>\n",
              "      <td>...</td>\n",
              "      <td>mouse2</td>\n",
              "      <td>mouse2</td>\n",
              "      <td>mouse2</td>\n",
              "      <td>mouse2</td>\n",
              "      <td>mouse2</td>\n",
              "      <td>mouse2</td>\n",
              "      <td>mouse2</td>\n",
              "      <td>mouse2</td>\n",
              "      <td>mouse2</td>\n",
              "      <td>mouse2</td>\n",
              "    </tr>\n",
              "    <tr>\n",
              "      <th>bodyparts</th>\n",
              "      <td>NaN</td>\n",
              "      <td>NaN</td>\n",
              "      <td>topleft</td>\n",
              "      <td>topleft</td>\n",
              "      <td>rightdown</td>\n",
              "      <td>rightdown</td>\n",
              "      <td>nose</td>\n",
              "      <td>nose</td>\n",
              "      <td>leftear</td>\n",
              "      <td>leftear</td>\n",
              "      <td>...</td>\n",
              "      <td>rightear</td>\n",
              "      <td>rightear</td>\n",
              "      <td>leftHip</td>\n",
              "      <td>leftHip</td>\n",
              "      <td>rightHip</td>\n",
              "      <td>rightHip</td>\n",
              "      <td>tailBase</td>\n",
              "      <td>tailBase</td>\n",
              "      <td>tailEnd</td>\n",
              "      <td>tailEnd</td>\n",
              "    </tr>\n",
              "    <tr>\n",
              "      <th>coords</th>\n",
              "      <td>NaN</td>\n",
              "      <td>NaN</td>\n",
              "      <td>x</td>\n",
              "      <td>y</td>\n",
              "      <td>x</td>\n",
              "      <td>y</td>\n",
              "      <td>x</td>\n",
              "      <td>y</td>\n",
              "      <td>x</td>\n",
              "      <td>y</td>\n",
              "      <td>...</td>\n",
              "      <td>x</td>\n",
              "      <td>y</td>\n",
              "      <td>x</td>\n",
              "      <td>y</td>\n",
              "      <td>x</td>\n",
              "      <td>y</td>\n",
              "      <td>x</td>\n",
              "      <td>y</td>\n",
              "      <td>x</td>\n",
              "      <td>y</td>\n",
              "    </tr>\n",
              "    <tr>\n",
              "      <th>labeled-data</th>\n",
              "      <td>85.0</td>\n",
              "      <td>A_male_in_a_new_cage_face_view_3_2022-08-10_15...</td>\n",
              "      <td>235.0087604175184</td>\n",
              "      <td>187.39317491121764</td>\n",
              "      <td>481.7713439540003</td>\n",
              "      <td>315.30222050581585</td>\n",
              "      <td>418.38279038499576</td>\n",
              "      <td>211.16388249959422</td>\n",
              "      <td>399.13983662297653</td>\n",
              "      <td>211.16388249959422</td>\n",
              "      <td>...</td>\n",
              "      <td>NaN</td>\n",
              "      <td>NaN</td>\n",
              "      <td>NaN</td>\n",
              "      <td>NaN</td>\n",
              "      <td>NaN</td>\n",
              "      <td>NaN</td>\n",
              "      <td>NaN</td>\n",
              "      <td>NaN</td>\n",
              "      <td>NaN</td>\n",
              "      <td>NaN</td>\n",
              "    </tr>\n",
              "    <tr>\n",
              "      <th>labeled-data</th>\n",
              "      <td>85.0</td>\n",
              "      <td>A_male_in_a_new_cage_face_view_3_2022-08-10_15...</td>\n",
              "      <td>234.60483979437058</td>\n",
              "      <td>204.14698358385942</td>\n",
              "      <td>457.6013604657909</td>\n",
              "      <td>307.42958263167503</td>\n",
              "      <td>439.6051500256412</td>\n",
              "      <td>300.3875872420512</td>\n",
              "      <td>455.25402866924964</td>\n",
              "      <td>232.31496514235448</td>\n",
              "      <td>...</td>\n",
              "      <td>NaN</td>\n",
              "      <td>NaN</td>\n",
              "      <td>NaN</td>\n",
              "      <td>NaN</td>\n",
              "      <td>NaN</td>\n",
              "      <td>NaN</td>\n",
              "      <td>NaN</td>\n",
              "      <td>NaN</td>\n",
              "      <td>NaN</td>\n",
              "      <td>NaN</td>\n",
              "    </tr>\n",
              "  </tbody>\n",
              "</table>\n",
              "<p>5 rows × 38 columns</p>\n",
              "</div>\n",
              "      <button class=\"colab-df-convert\" onclick=\"convertToInteractive('df-e46dbef6-7aee-4c33-9847-f6161e951e2b')\"\n",
              "              title=\"Convert this dataframe to an interactive table.\"\n",
              "              style=\"display:none;\">\n",
              "        \n",
              "  <svg xmlns=\"http://www.w3.org/2000/svg\" height=\"24px\"viewBox=\"0 0 24 24\"\n",
              "       width=\"24px\">\n",
              "    <path d=\"M0 0h24v24H0V0z\" fill=\"none\"/>\n",
              "    <path d=\"M18.56 5.44l.94 2.06.94-2.06 2.06-.94-2.06-.94-.94-2.06-.94 2.06-2.06.94zm-11 1L8.5 8.5l.94-2.06 2.06-.94-2.06-.94L8.5 2.5l-.94 2.06-2.06.94zm10 10l.94 2.06.94-2.06 2.06-.94-2.06-.94-.94-2.06-.94 2.06-2.06.94z\"/><path d=\"M17.41 7.96l-1.37-1.37c-.4-.4-.92-.59-1.43-.59-.52 0-1.04.2-1.43.59L10.3 9.45l-7.72 7.72c-.78.78-.78 2.05 0 2.83L4 21.41c.39.39.9.59 1.41.59.51 0 1.02-.2 1.41-.59l7.78-7.78 2.81-2.81c.8-.78.8-2.07 0-2.86zM5.41 20L4 18.59l7.72-7.72 1.47 1.35L5.41 20z\"/>\n",
              "  </svg>\n",
              "      </button>\n",
              "      \n",
              "  <style>\n",
              "    .colab-df-container {\n",
              "      display:flex;\n",
              "      flex-wrap:wrap;\n",
              "      gap: 12px;\n",
              "    }\n",
              "\n",
              "    .colab-df-convert {\n",
              "      background-color: #E8F0FE;\n",
              "      border: none;\n",
              "      border-radius: 50%;\n",
              "      cursor: pointer;\n",
              "      display: none;\n",
              "      fill: #1967D2;\n",
              "      height: 32px;\n",
              "      padding: 0 0 0 0;\n",
              "      width: 32px;\n",
              "    }\n",
              "\n",
              "    .colab-df-convert:hover {\n",
              "      background-color: #E2EBFA;\n",
              "      box-shadow: 0px 1px 2px rgba(60, 64, 67, 0.3), 0px 1px 3px 1px rgba(60, 64, 67, 0.15);\n",
              "      fill: #174EA6;\n",
              "    }\n",
              "\n",
              "    [theme=dark] .colab-df-convert {\n",
              "      background-color: #3B4455;\n",
              "      fill: #D2E3FC;\n",
              "    }\n",
              "\n",
              "    [theme=dark] .colab-df-convert:hover {\n",
              "      background-color: #434B5C;\n",
              "      box-shadow: 0px 1px 3px 1px rgba(0, 0, 0, 0.15);\n",
              "      filter: drop-shadow(0px 1px 2px rgba(0, 0, 0, 0.3));\n",
              "      fill: #FFFFFF;\n",
              "    }\n",
              "  </style>\n",
              "\n",
              "      <script>\n",
              "        const buttonEl =\n",
              "          document.querySelector('#df-e46dbef6-7aee-4c33-9847-f6161e951e2b button.colab-df-convert');\n",
              "        buttonEl.style.display =\n",
              "          google.colab.kernel.accessAllowed ? 'block' : 'none';\n",
              "\n",
              "        async function convertToInteractive(key) {\n",
              "          const element = document.querySelector('#df-e46dbef6-7aee-4c33-9847-f6161e951e2b');\n",
              "          const dataTable =\n",
              "            await google.colab.kernel.invokeFunction('convertToInteractive',\n",
              "                                                     [key], {});\n",
              "          if (!dataTable) return;\n",
              "\n",
              "          const docLinkHtml = 'Like what you see? Visit the ' +\n",
              "            '<a target=\"_blank\" href=https://colab.research.google.com/notebooks/data_table.ipynb>data table notebook</a>'\n",
              "            + ' to learn more about interactive tables.';\n",
              "          element.innerHTML = '';\n",
              "          dataTable['output_type'] = 'display_data';\n",
              "          await google.colab.output.renderOutput(dataTable, element);\n",
              "          const docLink = document.createElement('div');\n",
              "          docLink.innerHTML = docLinkHtml;\n",
              "          element.appendChild(docLink);\n",
              "        }\n",
              "      </script>\n",
              "    </div>\n",
              "  </div>\n",
              "  "
            ]
          },
          "metadata": {},
          "execution_count": 3
        }
      ]
    },
    {
      "cell_type": "markdown",
      "source": [
        "Preprocessing the data"
      ],
      "metadata": {
        "id": "q3ZQwj6EIzgh"
      }
    },
    {
      "cell_type": "code",
      "source": [
        "df.columns=list(df.iloc[0,:]+\"_\"+df.iloc[1,:]+\"_\"+df.iloc[2,:])\n",
        "dfName=df.iloc[:,:2]\n",
        "df=df.iloc[3:,2:]"
      ],
      "metadata": {
        "id": "bQPDRRruMRkl"
      },
      "execution_count": 4,
      "outputs": []
    },
    {
      "cell_type": "code",
      "source": [
        "df.head()"
      ],
      "metadata": {
        "colab": {
          "base_uri": "https://localhost:8080/",
          "height": 418
        },
        "id": "__1t5dU8Oibr",
        "outputId": "56a9034b-1f5a-43c6-94ff-b7db2f3fa06a"
      },
      "execution_count": 5,
      "outputs": [
        {
          "output_type": "execute_result",
          "data": {
            "text/plain": [
              "                mouse1_topleft_x    mouse1_topleft_y mouse1_rightdown_x  \\\n",
              "scorer                                                                    \n",
              "labeled-data   235.0087604175184  187.39317491121764  481.7713439540003   \n",
              "labeled-data  234.60483979437058  204.14698358385942  457.6013604657909   \n",
              "labeled-data   225.2155126082055    80.5208422993527  288.5934711148197   \n",
              "labeled-data  315.97900874113446  182.23855348280756  387.9638505017333   \n",
              "labeled-data  146.97111939016332   216.6660864987462  362.1432007397794   \n",
              "\n",
              "              mouse1_rightdown_y       mouse1_nose_x       mouse1_nose_y  \\\n",
              "scorer                                                                     \n",
              "labeled-data  315.30222050581585  418.38279038499576  211.16388249959422   \n",
              "labeled-data  307.42958263167503   439.6051500256412   300.3875872420512   \n",
              "labeled-data  222.92563795618952   249.4712745057986  100.86438453604367   \n",
              "labeled-data  244.83406805724127   384.0516308408312  204.92942751603977   \n",
              "labeled-data  330.90290059708775   164.1848858981326  223.70808188837003   \n",
              "\n",
              "                mouse1_leftear_x    mouse1_leftear_y   mouse1_rightear_x  \\\n",
              "scorer                                                                     \n",
              "labeled-data  399.13983662297653  211.16388249959422  445.54931334314057   \n",
              "labeled-data  455.25402866924964  232.31496514235448   413.7845002636873   \n",
              "labeled-data   240.0819473196335   85.99794982461566   261.2079334885049   \n",
              "labeled-data  362.92564467195984  188.49810494025093  377.79207938338783   \n",
              "labeled-data   192.3528674566278   217.4485304309266   193.1353113888082   \n",
              "\n",
              "               mouse1_rightear_y  ... mouse2_rightear_x mouse2_rightear_y  \\\n",
              "scorer                            ...                                       \n",
              "labeled-data   206.6361286732367  ...               NaN               NaN   \n",
              "labeled-data  241.70429232851956  ...               NaN               NaN   \n",
              "labeled-data   88.34528162115691  ...               NaN               NaN   \n",
              "labeled-data  190.06299280461172  ...               NaN               NaN   \n",
              "labeled-data   216.6660864987462  ...               NaN               NaN   \n",
              "\n",
              "             mouse2_leftHip_x mouse2_leftHip_y mouse2_rightHip_x  \\\n",
              "scorer                                                             \n",
              "labeled-data              NaN              NaN               NaN   \n",
              "labeled-data              NaN              NaN               NaN   \n",
              "labeled-data              NaN              NaN               NaN   \n",
              "labeled-data              NaN              NaN               NaN   \n",
              "labeled-data              NaN              NaN               NaN   \n",
              "\n",
              "             mouse2_rightHip_y mouse2_tailBase_x mouse2_tailBase_y  \\\n",
              "scorer                                                               \n",
              "labeled-data               NaN               NaN               NaN   \n",
              "labeled-data               NaN               NaN               NaN   \n",
              "labeled-data               NaN               NaN               NaN   \n",
              "labeled-data               NaN               NaN               NaN   \n",
              "labeled-data               NaN               NaN               NaN   \n",
              "\n",
              "             mouse2_tailEnd_x mouse2_tailEnd_y  \n",
              "scorer                                          \n",
              "labeled-data              NaN              NaN  \n",
              "labeled-data              NaN              NaN  \n",
              "labeled-data              NaN              NaN  \n",
              "labeled-data              NaN              NaN  \n",
              "labeled-data              NaN              NaN  \n",
              "\n",
              "[5 rows x 36 columns]"
            ],
            "text/html": [
              "\n",
              "  <div id=\"df-b50594f3-77e2-4e7c-a69e-5067cebd989b\">\n",
              "    <div class=\"colab-df-container\">\n",
              "      <div>\n",
              "<style scoped>\n",
              "    .dataframe tbody tr th:only-of-type {\n",
              "        vertical-align: middle;\n",
              "    }\n",
              "\n",
              "    .dataframe tbody tr th {\n",
              "        vertical-align: top;\n",
              "    }\n",
              "\n",
              "    .dataframe thead th {\n",
              "        text-align: right;\n",
              "    }\n",
              "</style>\n",
              "<table border=\"1\" class=\"dataframe\">\n",
              "  <thead>\n",
              "    <tr style=\"text-align: right;\">\n",
              "      <th></th>\n",
              "      <th>mouse1_topleft_x</th>\n",
              "      <th>mouse1_topleft_y</th>\n",
              "      <th>mouse1_rightdown_x</th>\n",
              "      <th>mouse1_rightdown_y</th>\n",
              "      <th>mouse1_nose_x</th>\n",
              "      <th>mouse1_nose_y</th>\n",
              "      <th>mouse1_leftear_x</th>\n",
              "      <th>mouse1_leftear_y</th>\n",
              "      <th>mouse1_rightear_x</th>\n",
              "      <th>mouse1_rightear_y</th>\n",
              "      <th>...</th>\n",
              "      <th>mouse2_rightear_x</th>\n",
              "      <th>mouse2_rightear_y</th>\n",
              "      <th>mouse2_leftHip_x</th>\n",
              "      <th>mouse2_leftHip_y</th>\n",
              "      <th>mouse2_rightHip_x</th>\n",
              "      <th>mouse2_rightHip_y</th>\n",
              "      <th>mouse2_tailBase_x</th>\n",
              "      <th>mouse2_tailBase_y</th>\n",
              "      <th>mouse2_tailEnd_x</th>\n",
              "      <th>mouse2_tailEnd_y</th>\n",
              "    </tr>\n",
              "    <tr>\n",
              "      <th>scorer</th>\n",
              "      <th></th>\n",
              "      <th></th>\n",
              "      <th></th>\n",
              "      <th></th>\n",
              "      <th></th>\n",
              "      <th></th>\n",
              "      <th></th>\n",
              "      <th></th>\n",
              "      <th></th>\n",
              "      <th></th>\n",
              "      <th></th>\n",
              "      <th></th>\n",
              "      <th></th>\n",
              "      <th></th>\n",
              "      <th></th>\n",
              "      <th></th>\n",
              "      <th></th>\n",
              "      <th></th>\n",
              "      <th></th>\n",
              "      <th></th>\n",
              "      <th></th>\n",
              "    </tr>\n",
              "  </thead>\n",
              "  <tbody>\n",
              "    <tr>\n",
              "      <th>labeled-data</th>\n",
              "      <td>235.0087604175184</td>\n",
              "      <td>187.39317491121764</td>\n",
              "      <td>481.7713439540003</td>\n",
              "      <td>315.30222050581585</td>\n",
              "      <td>418.38279038499576</td>\n",
              "      <td>211.16388249959422</td>\n",
              "      <td>399.13983662297653</td>\n",
              "      <td>211.16388249959422</td>\n",
              "      <td>445.54931334314057</td>\n",
              "      <td>206.6361286732367</td>\n",
              "      <td>...</td>\n",
              "      <td>NaN</td>\n",
              "      <td>NaN</td>\n",
              "      <td>NaN</td>\n",
              "      <td>NaN</td>\n",
              "      <td>NaN</td>\n",
              "      <td>NaN</td>\n",
              "      <td>NaN</td>\n",
              "      <td>NaN</td>\n",
              "      <td>NaN</td>\n",
              "      <td>NaN</td>\n",
              "    </tr>\n",
              "    <tr>\n",
              "      <th>labeled-data</th>\n",
              "      <td>234.60483979437058</td>\n",
              "      <td>204.14698358385942</td>\n",
              "      <td>457.6013604657909</td>\n",
              "      <td>307.42958263167503</td>\n",
              "      <td>439.6051500256412</td>\n",
              "      <td>300.3875872420512</td>\n",
              "      <td>455.25402866924964</td>\n",
              "      <td>232.31496514235448</td>\n",
              "      <td>413.7845002636873</td>\n",
              "      <td>241.70429232851956</td>\n",
              "      <td>...</td>\n",
              "      <td>NaN</td>\n",
              "      <td>NaN</td>\n",
              "      <td>NaN</td>\n",
              "      <td>NaN</td>\n",
              "      <td>NaN</td>\n",
              "      <td>NaN</td>\n",
              "      <td>NaN</td>\n",
              "      <td>NaN</td>\n",
              "      <td>NaN</td>\n",
              "      <td>NaN</td>\n",
              "    </tr>\n",
              "    <tr>\n",
              "      <th>labeled-data</th>\n",
              "      <td>225.2155126082055</td>\n",
              "      <td>80.5208422993527</td>\n",
              "      <td>288.5934711148197</td>\n",
              "      <td>222.92563795618952</td>\n",
              "      <td>249.4712745057986</td>\n",
              "      <td>100.86438453604367</td>\n",
              "      <td>240.0819473196335</td>\n",
              "      <td>85.99794982461566</td>\n",
              "      <td>261.2079334885049</td>\n",
              "      <td>88.34528162115691</td>\n",
              "      <td>...</td>\n",
              "      <td>NaN</td>\n",
              "      <td>NaN</td>\n",
              "      <td>NaN</td>\n",
              "      <td>NaN</td>\n",
              "      <td>NaN</td>\n",
              "      <td>NaN</td>\n",
              "      <td>NaN</td>\n",
              "      <td>NaN</td>\n",
              "      <td>NaN</td>\n",
              "      <td>NaN</td>\n",
              "    </tr>\n",
              "    <tr>\n",
              "      <th>labeled-data</th>\n",
              "      <td>315.97900874113446</td>\n",
              "      <td>182.23855348280756</td>\n",
              "      <td>387.9638505017333</td>\n",
              "      <td>244.83406805724127</td>\n",
              "      <td>384.0516308408312</td>\n",
              "      <td>204.92942751603977</td>\n",
              "      <td>362.92564467195984</td>\n",
              "      <td>188.49810494025093</td>\n",
              "      <td>377.79207938338783</td>\n",
              "      <td>190.06299280461172</td>\n",
              "      <td>...</td>\n",
              "      <td>NaN</td>\n",
              "      <td>NaN</td>\n",
              "      <td>NaN</td>\n",
              "      <td>NaN</td>\n",
              "      <td>NaN</td>\n",
              "      <td>NaN</td>\n",
              "      <td>NaN</td>\n",
              "      <td>NaN</td>\n",
              "      <td>NaN</td>\n",
              "      <td>NaN</td>\n",
              "    </tr>\n",
              "    <tr>\n",
              "      <th>labeled-data</th>\n",
              "      <td>146.97111939016332</td>\n",
              "      <td>216.6660864987462</td>\n",
              "      <td>362.1432007397794</td>\n",
              "      <td>330.90290059708775</td>\n",
              "      <td>164.1848858981326</td>\n",
              "      <td>223.70808188837003</td>\n",
              "      <td>192.3528674566278</td>\n",
              "      <td>217.4485304309266</td>\n",
              "      <td>193.1353113888082</td>\n",
              "      <td>216.6660864987462</td>\n",
              "      <td>...</td>\n",
              "      <td>NaN</td>\n",
              "      <td>NaN</td>\n",
              "      <td>NaN</td>\n",
              "      <td>NaN</td>\n",
              "      <td>NaN</td>\n",
              "      <td>NaN</td>\n",
              "      <td>NaN</td>\n",
              "      <td>NaN</td>\n",
              "      <td>NaN</td>\n",
              "      <td>NaN</td>\n",
              "    </tr>\n",
              "  </tbody>\n",
              "</table>\n",
              "<p>5 rows × 36 columns</p>\n",
              "</div>\n",
              "      <button class=\"colab-df-convert\" onclick=\"convertToInteractive('df-b50594f3-77e2-4e7c-a69e-5067cebd989b')\"\n",
              "              title=\"Convert this dataframe to an interactive table.\"\n",
              "              style=\"display:none;\">\n",
              "        \n",
              "  <svg xmlns=\"http://www.w3.org/2000/svg\" height=\"24px\"viewBox=\"0 0 24 24\"\n",
              "       width=\"24px\">\n",
              "    <path d=\"M0 0h24v24H0V0z\" fill=\"none\"/>\n",
              "    <path d=\"M18.56 5.44l.94 2.06.94-2.06 2.06-.94-2.06-.94-.94-2.06-.94 2.06-2.06.94zm-11 1L8.5 8.5l.94-2.06 2.06-.94-2.06-.94L8.5 2.5l-.94 2.06-2.06.94zm10 10l.94 2.06.94-2.06 2.06-.94-2.06-.94-.94-2.06-.94 2.06-2.06.94z\"/><path d=\"M17.41 7.96l-1.37-1.37c-.4-.4-.92-.59-1.43-.59-.52 0-1.04.2-1.43.59L10.3 9.45l-7.72 7.72c-.78.78-.78 2.05 0 2.83L4 21.41c.39.39.9.59 1.41.59.51 0 1.02-.2 1.41-.59l7.78-7.78 2.81-2.81c.8-.78.8-2.07 0-2.86zM5.41 20L4 18.59l7.72-7.72 1.47 1.35L5.41 20z\"/>\n",
              "  </svg>\n",
              "      </button>\n",
              "      \n",
              "  <style>\n",
              "    .colab-df-container {\n",
              "      display:flex;\n",
              "      flex-wrap:wrap;\n",
              "      gap: 12px;\n",
              "    }\n",
              "\n",
              "    .colab-df-convert {\n",
              "      background-color: #E8F0FE;\n",
              "      border: none;\n",
              "      border-radius: 50%;\n",
              "      cursor: pointer;\n",
              "      display: none;\n",
              "      fill: #1967D2;\n",
              "      height: 32px;\n",
              "      padding: 0 0 0 0;\n",
              "      width: 32px;\n",
              "    }\n",
              "\n",
              "    .colab-df-convert:hover {\n",
              "      background-color: #E2EBFA;\n",
              "      box-shadow: 0px 1px 2px rgba(60, 64, 67, 0.3), 0px 1px 3px 1px rgba(60, 64, 67, 0.15);\n",
              "      fill: #174EA6;\n",
              "    }\n",
              "\n",
              "    [theme=dark] .colab-df-convert {\n",
              "      background-color: #3B4455;\n",
              "      fill: #D2E3FC;\n",
              "    }\n",
              "\n",
              "    [theme=dark] .colab-df-convert:hover {\n",
              "      background-color: #434B5C;\n",
              "      box-shadow: 0px 1px 3px 1px rgba(0, 0, 0, 0.15);\n",
              "      filter: drop-shadow(0px 1px 2px rgba(0, 0, 0, 0.3));\n",
              "      fill: #FFFFFF;\n",
              "    }\n",
              "  </style>\n",
              "\n",
              "      <script>\n",
              "        const buttonEl =\n",
              "          document.querySelector('#df-b50594f3-77e2-4e7c-a69e-5067cebd989b button.colab-df-convert');\n",
              "        buttonEl.style.display =\n",
              "          google.colab.kernel.accessAllowed ? 'block' : 'none';\n",
              "\n",
              "        async function convertToInteractive(key) {\n",
              "          const element = document.querySelector('#df-b50594f3-77e2-4e7c-a69e-5067cebd989b');\n",
              "          const dataTable =\n",
              "            await google.colab.kernel.invokeFunction('convertToInteractive',\n",
              "                                                     [key], {});\n",
              "          if (!dataTable) return;\n",
              "\n",
              "          const docLinkHtml = 'Like what you see? Visit the ' +\n",
              "            '<a target=\"_blank\" href=https://colab.research.google.com/notebooks/data_table.ipynb>data table notebook</a>'\n",
              "            + ' to learn more about interactive tables.';\n",
              "          element.innerHTML = '';\n",
              "          dataTable['output_type'] = 'display_data';\n",
              "          await google.colab.output.renderOutput(dataTable, element);\n",
              "          const docLink = document.createElement('div');\n",
              "          docLink.innerHTML = docLinkHtml;\n",
              "          element.appendChild(docLink);\n",
              "        }\n",
              "      </script>\n",
              "    </div>\n",
              "  </div>\n",
              "  "
            ]
          },
          "metadata": {},
          "execution_count": 5
        }
      ]
    },
    {
      "cell_type": "code",
      "source": [
        "print(df.columns)"
      ],
      "metadata": {
        "colab": {
          "base_uri": "https://localhost:8080/"
        },
        "id": "VFjS0Q3KPwvc",
        "outputId": "614b7c3b-1d31-462a-8d45-196ba4b1abd4"
      },
      "execution_count": 6,
      "outputs": [
        {
          "output_type": "stream",
          "name": "stdout",
          "text": [
            "Index(['mouse1_topleft_x', 'mouse1_topleft_y', 'mouse1_rightdown_x',\n",
            "       'mouse1_rightdown_y', 'mouse1_nose_x', 'mouse1_nose_y',\n",
            "       'mouse1_leftear_x', 'mouse1_leftear_y', 'mouse1_rightear_x',\n",
            "       'mouse1_rightear_y', 'mouse1_leftHip_x', 'mouse1_leftHip_y',\n",
            "       'mouse1_rightHip_x', 'mouse1_rightHip_y', 'mouse1_tailBase_x',\n",
            "       'mouse1_tailBase_y', 'mouse1_tailEnd_x', 'mouse1_tailEnd_y',\n",
            "       'mouse2_topleft_x', 'mouse2_topleft_y', 'mouse2_rightdown_x',\n",
            "       'mouse2_rightdown_y', 'mouse2_nose_x', 'mouse2_nose_y',\n",
            "       'mouse2_leftear_x', 'mouse2_leftear_y', 'mouse2_rightear_x',\n",
            "       'mouse2_rightear_y', 'mouse2_leftHip_x', 'mouse2_leftHip_y',\n",
            "       'mouse2_rightHip_x', 'mouse2_rightHip_y', 'mouse2_tailBase_x',\n",
            "       'mouse2_tailBase_y', 'mouse2_tailEnd_x', 'mouse2_tailEnd_y'],\n",
            "      dtype='object')\n"
          ]
        }
      ]
    },
    {
      "cell_type": "code",
      "source": [
        "col_names=['mouse_topleft_x', 'mouse_topleft_y', 'mouse_rightdown_x',\n",
        "       'mouse_rightdown_y', 'mouse_nose_x', 'mouse_nose_y',\n",
        "       'mouse_leftear_x', 'mouse_leftear_y', 'mouse_rightear_x',\n",
        "       'mouse_rightear_y', 'mouse_leftHip_x', 'mouse_leftHip_y',\n",
        "       'mouse_rightHip_x', 'mouse_rightHip_y', 'mouse_tailBase_x',\n",
        "       'mouse_tailBase_y', 'mouse_tailEnd_x', 'mouse_tailEnd_y']\n",
        "mouse1=df.iloc[:,:18]\n",
        "mouse1.columns=col_names\n",
        "mouse2=df.iloc[:,18:]\n",
        "mouse2.columns=col_names\n",
        "mouse=pd.concat([mouse1,mouse2])"
      ],
      "metadata": {
        "id": "yxrEm3JXQylO"
      },
      "execution_count": 7,
      "outputs": []
    },
    {
      "cell_type": "code",
      "source": [
        "mouse.head()"
      ],
      "metadata": {
        "colab": {
          "base_uri": "https://localhost:8080/",
          "height": 388
        },
        "id": "HjQ2zDhYT4JJ",
        "outputId": "0195ad3a-fbc5-4405-ed15-bf99ab1d5cab"
      },
      "execution_count": 8,
      "outputs": [
        {
          "output_type": "execute_result",
          "data": {
            "text/plain": [
              "                 mouse_topleft_x     mouse_topleft_y  mouse_rightdown_x  \\\n",
              "scorer                                                                    \n",
              "labeled-data   235.0087604175184  187.39317491121764  481.7713439540003   \n",
              "labeled-data  234.60483979437058  204.14698358385942  457.6013604657909   \n",
              "labeled-data   225.2155126082055    80.5208422993527  288.5934711148197   \n",
              "labeled-data  315.97900874113446  182.23855348280756  387.9638505017333   \n",
              "labeled-data  146.97111939016332   216.6660864987462  362.1432007397794   \n",
              "\n",
              "               mouse_rightdown_y        mouse_nose_x        mouse_nose_y  \\\n",
              "scorer                                                                     \n",
              "labeled-data  315.30222050581585  418.38279038499576  211.16388249959422   \n",
              "labeled-data  307.42958263167503   439.6051500256412   300.3875872420512   \n",
              "labeled-data  222.92563795618952   249.4712745057986  100.86438453604367   \n",
              "labeled-data  244.83406805724127   384.0516308408312  204.92942751603977   \n",
              "labeled-data  330.90290059708775   164.1848858981326  223.70808188837003   \n",
              "\n",
              "                 mouse_leftear_x     mouse_leftear_y    mouse_rightear_x  \\\n",
              "scorer                                                                     \n",
              "labeled-data  399.13983662297653  211.16388249959422  445.54931334314057   \n",
              "labeled-data  455.25402866924964  232.31496514235448   413.7845002636873   \n",
              "labeled-data   240.0819473196335   85.99794982461566   261.2079334885049   \n",
              "labeled-data  362.92564467195984  188.49810494025093  377.79207938338783   \n",
              "labeled-data   192.3528674566278   217.4485304309266   193.1353113888082   \n",
              "\n",
              "                mouse_rightear_y     mouse_leftHip_x     mouse_leftHip_y  \\\n",
              "scorer                                                                     \n",
              "labeled-data   206.6361286732367  400.27177507956594  292.66345137402857   \n",
              "labeled-data  241.70429232851956  384.83407477301165  250.31117558250423   \n",
              "labeled-data   88.34528162115691  233.82239586219015  159.54767944957536   \n",
              "labeled-data  190.06299280461172   323.0210041307583   201.7996517873181   \n",
              "labeled-data   216.6660864987462   224.4330686760251  311.34180229257726   \n",
              "\n",
              "                mouse_rightHip_x    mouse_rightHip_y    mouse_tailBase_x  \\\n",
              "scorer                                                                     \n",
              "labeled-data   467.0561440183385    275.684374525188  418.38279038499576   \n",
              "labeled-data  353.53631748579477   259.7005027686693   337.8874388421863   \n",
              "labeled-data   263.5552652850462  153.28812799213193  254.94838203106156   \n",
              "labeled-data  353.53631748579477  218.23097436310695   323.8034480629387   \n",
              "labeled-data   279.9865878608351  273.78449354791695   295.6354665044435   \n",
              "\n",
              "                mouse_tailBase_y     mouse_tailEnd_x     mouse_tailEnd_y  \n",
              "scorer                                                                    \n",
              "labeled-data   301.7189590267435  251.98783726635892  302.85089748333303  \n",
              "labeled-data   254.2233952434064  245.55905484489648   262.8302784973911  \n",
              "labeled-data  172.84922629664254  285.46369538609804  221.36075009182866  \n",
              "labeled-data   215.8836425665657  328.49811165602125  245.61651198942172  \n",
              "labeled-data  298.82269937769047  359.01342501105773   284.7387085984428  "
            ],
            "text/html": [
              "\n",
              "  <div id=\"df-fccfe629-cb7c-4beb-9437-d496aa7e5925\">\n",
              "    <div class=\"colab-df-container\">\n",
              "      <div>\n",
              "<style scoped>\n",
              "    .dataframe tbody tr th:only-of-type {\n",
              "        vertical-align: middle;\n",
              "    }\n",
              "\n",
              "    .dataframe tbody tr th {\n",
              "        vertical-align: top;\n",
              "    }\n",
              "\n",
              "    .dataframe thead th {\n",
              "        text-align: right;\n",
              "    }\n",
              "</style>\n",
              "<table border=\"1\" class=\"dataframe\">\n",
              "  <thead>\n",
              "    <tr style=\"text-align: right;\">\n",
              "      <th></th>\n",
              "      <th>mouse_topleft_x</th>\n",
              "      <th>mouse_topleft_y</th>\n",
              "      <th>mouse_rightdown_x</th>\n",
              "      <th>mouse_rightdown_y</th>\n",
              "      <th>mouse_nose_x</th>\n",
              "      <th>mouse_nose_y</th>\n",
              "      <th>mouse_leftear_x</th>\n",
              "      <th>mouse_leftear_y</th>\n",
              "      <th>mouse_rightear_x</th>\n",
              "      <th>mouse_rightear_y</th>\n",
              "      <th>mouse_leftHip_x</th>\n",
              "      <th>mouse_leftHip_y</th>\n",
              "      <th>mouse_rightHip_x</th>\n",
              "      <th>mouse_rightHip_y</th>\n",
              "      <th>mouse_tailBase_x</th>\n",
              "      <th>mouse_tailBase_y</th>\n",
              "      <th>mouse_tailEnd_x</th>\n",
              "      <th>mouse_tailEnd_y</th>\n",
              "    </tr>\n",
              "    <tr>\n",
              "      <th>scorer</th>\n",
              "      <th></th>\n",
              "      <th></th>\n",
              "      <th></th>\n",
              "      <th></th>\n",
              "      <th></th>\n",
              "      <th></th>\n",
              "      <th></th>\n",
              "      <th></th>\n",
              "      <th></th>\n",
              "      <th></th>\n",
              "      <th></th>\n",
              "      <th></th>\n",
              "      <th></th>\n",
              "      <th></th>\n",
              "      <th></th>\n",
              "      <th></th>\n",
              "      <th></th>\n",
              "      <th></th>\n",
              "    </tr>\n",
              "  </thead>\n",
              "  <tbody>\n",
              "    <tr>\n",
              "      <th>labeled-data</th>\n",
              "      <td>235.0087604175184</td>\n",
              "      <td>187.39317491121764</td>\n",
              "      <td>481.7713439540003</td>\n",
              "      <td>315.30222050581585</td>\n",
              "      <td>418.38279038499576</td>\n",
              "      <td>211.16388249959422</td>\n",
              "      <td>399.13983662297653</td>\n",
              "      <td>211.16388249959422</td>\n",
              "      <td>445.54931334314057</td>\n",
              "      <td>206.6361286732367</td>\n",
              "      <td>400.27177507956594</td>\n",
              "      <td>292.66345137402857</td>\n",
              "      <td>467.0561440183385</td>\n",
              "      <td>275.684374525188</td>\n",
              "      <td>418.38279038499576</td>\n",
              "      <td>301.7189590267435</td>\n",
              "      <td>251.98783726635892</td>\n",
              "      <td>302.85089748333303</td>\n",
              "    </tr>\n",
              "    <tr>\n",
              "      <th>labeled-data</th>\n",
              "      <td>234.60483979437058</td>\n",
              "      <td>204.14698358385942</td>\n",
              "      <td>457.6013604657909</td>\n",
              "      <td>307.42958263167503</td>\n",
              "      <td>439.6051500256412</td>\n",
              "      <td>300.3875872420512</td>\n",
              "      <td>455.25402866924964</td>\n",
              "      <td>232.31496514235448</td>\n",
              "      <td>413.7845002636873</td>\n",
              "      <td>241.70429232851956</td>\n",
              "      <td>384.83407477301165</td>\n",
              "      <td>250.31117558250423</td>\n",
              "      <td>353.53631748579477</td>\n",
              "      <td>259.7005027686693</td>\n",
              "      <td>337.8874388421863</td>\n",
              "      <td>254.2233952434064</td>\n",
              "      <td>245.55905484489648</td>\n",
              "      <td>262.8302784973911</td>\n",
              "    </tr>\n",
              "    <tr>\n",
              "      <th>labeled-data</th>\n",
              "      <td>225.2155126082055</td>\n",
              "      <td>80.5208422993527</td>\n",
              "      <td>288.5934711148197</td>\n",
              "      <td>222.92563795618952</td>\n",
              "      <td>249.4712745057986</td>\n",
              "      <td>100.86438453604367</td>\n",
              "      <td>240.0819473196335</td>\n",
              "      <td>85.99794982461566</td>\n",
              "      <td>261.2079334885049</td>\n",
              "      <td>88.34528162115691</td>\n",
              "      <td>233.82239586219015</td>\n",
              "      <td>159.54767944957536</td>\n",
              "      <td>263.5552652850462</td>\n",
              "      <td>153.28812799213193</td>\n",
              "      <td>254.94838203106156</td>\n",
              "      <td>172.84922629664254</td>\n",
              "      <td>285.46369538609804</td>\n",
              "      <td>221.36075009182866</td>\n",
              "    </tr>\n",
              "    <tr>\n",
              "      <th>labeled-data</th>\n",
              "      <td>315.97900874113446</td>\n",
              "      <td>182.23855348280756</td>\n",
              "      <td>387.9638505017333</td>\n",
              "      <td>244.83406805724127</td>\n",
              "      <td>384.0516308408312</td>\n",
              "      <td>204.92942751603977</td>\n",
              "      <td>362.92564467195984</td>\n",
              "      <td>188.49810494025093</td>\n",
              "      <td>377.79207938338783</td>\n",
              "      <td>190.06299280461172</td>\n",
              "      <td>323.0210041307583</td>\n",
              "      <td>201.7996517873181</td>\n",
              "      <td>353.53631748579477</td>\n",
              "      <td>218.23097436310695</td>\n",
              "      <td>323.8034480629387</td>\n",
              "      <td>215.8836425665657</td>\n",
              "      <td>328.49811165602125</td>\n",
              "      <td>245.61651198942172</td>\n",
              "    </tr>\n",
              "    <tr>\n",
              "      <th>labeled-data</th>\n",
              "      <td>146.97111939016332</td>\n",
              "      <td>216.6660864987462</td>\n",
              "      <td>362.1432007397794</td>\n",
              "      <td>330.90290059708775</td>\n",
              "      <td>164.1848858981326</td>\n",
              "      <td>223.70808188837003</td>\n",
              "      <td>192.3528674566278</td>\n",
              "      <td>217.4485304309266</td>\n",
              "      <td>193.1353113888082</td>\n",
              "      <td>216.6660864987462</td>\n",
              "      <td>224.4330686760251</td>\n",
              "      <td>311.34180229257726</td>\n",
              "      <td>279.9865878608351</td>\n",
              "      <td>273.78449354791695</td>\n",
              "      <td>295.6354665044435</td>\n",
              "      <td>298.82269937769047</td>\n",
              "      <td>359.01342501105773</td>\n",
              "      <td>284.7387085984428</td>\n",
              "    </tr>\n",
              "  </tbody>\n",
              "</table>\n",
              "</div>\n",
              "      <button class=\"colab-df-convert\" onclick=\"convertToInteractive('df-fccfe629-cb7c-4beb-9437-d496aa7e5925')\"\n",
              "              title=\"Convert this dataframe to an interactive table.\"\n",
              "              style=\"display:none;\">\n",
              "        \n",
              "  <svg xmlns=\"http://www.w3.org/2000/svg\" height=\"24px\"viewBox=\"0 0 24 24\"\n",
              "       width=\"24px\">\n",
              "    <path d=\"M0 0h24v24H0V0z\" fill=\"none\"/>\n",
              "    <path d=\"M18.56 5.44l.94 2.06.94-2.06 2.06-.94-2.06-.94-.94-2.06-.94 2.06-2.06.94zm-11 1L8.5 8.5l.94-2.06 2.06-.94-2.06-.94L8.5 2.5l-.94 2.06-2.06.94zm10 10l.94 2.06.94-2.06 2.06-.94-2.06-.94-.94-2.06-.94 2.06-2.06.94z\"/><path d=\"M17.41 7.96l-1.37-1.37c-.4-.4-.92-.59-1.43-.59-.52 0-1.04.2-1.43.59L10.3 9.45l-7.72 7.72c-.78.78-.78 2.05 0 2.83L4 21.41c.39.39.9.59 1.41.59.51 0 1.02-.2 1.41-.59l7.78-7.78 2.81-2.81c.8-.78.8-2.07 0-2.86zM5.41 20L4 18.59l7.72-7.72 1.47 1.35L5.41 20z\"/>\n",
              "  </svg>\n",
              "      </button>\n",
              "      \n",
              "  <style>\n",
              "    .colab-df-container {\n",
              "      display:flex;\n",
              "      flex-wrap:wrap;\n",
              "      gap: 12px;\n",
              "    }\n",
              "\n",
              "    .colab-df-convert {\n",
              "      background-color: #E8F0FE;\n",
              "      border: none;\n",
              "      border-radius: 50%;\n",
              "      cursor: pointer;\n",
              "      display: none;\n",
              "      fill: #1967D2;\n",
              "      height: 32px;\n",
              "      padding: 0 0 0 0;\n",
              "      width: 32px;\n",
              "    }\n",
              "\n",
              "    .colab-df-convert:hover {\n",
              "      background-color: #E2EBFA;\n",
              "      box-shadow: 0px 1px 2px rgba(60, 64, 67, 0.3), 0px 1px 3px 1px rgba(60, 64, 67, 0.15);\n",
              "      fill: #174EA6;\n",
              "    }\n",
              "\n",
              "    [theme=dark] .colab-df-convert {\n",
              "      background-color: #3B4455;\n",
              "      fill: #D2E3FC;\n",
              "    }\n",
              "\n",
              "    [theme=dark] .colab-df-convert:hover {\n",
              "      background-color: #434B5C;\n",
              "      box-shadow: 0px 1px 3px 1px rgba(0, 0, 0, 0.15);\n",
              "      filter: drop-shadow(0px 1px 2px rgba(0, 0, 0, 0.3));\n",
              "      fill: #FFFFFF;\n",
              "    }\n",
              "  </style>\n",
              "\n",
              "      <script>\n",
              "        const buttonEl =\n",
              "          document.querySelector('#df-fccfe629-cb7c-4beb-9437-d496aa7e5925 button.colab-df-convert');\n",
              "        buttonEl.style.display =\n",
              "          google.colab.kernel.accessAllowed ? 'block' : 'none';\n",
              "\n",
              "        async function convertToInteractive(key) {\n",
              "          const element = document.querySelector('#df-fccfe629-cb7c-4beb-9437-d496aa7e5925');\n",
              "          const dataTable =\n",
              "            await google.colab.kernel.invokeFunction('convertToInteractive',\n",
              "                                                     [key], {});\n",
              "          if (!dataTable) return;\n",
              "\n",
              "          const docLinkHtml = 'Like what you see? Visit the ' +\n",
              "            '<a target=\"_blank\" href=https://colab.research.google.com/notebooks/data_table.ipynb>data table notebook</a>'\n",
              "            + ' to learn more about interactive tables.';\n",
              "          element.innerHTML = '';\n",
              "          dataTable['output_type'] = 'display_data';\n",
              "          await google.colab.output.renderOutput(dataTable, element);\n",
              "          const docLink = document.createElement('div');\n",
              "          docLink.innerHTML = docLinkHtml;\n",
              "          element.appendChild(docLink);\n",
              "        }\n",
              "      </script>\n",
              "    </div>\n",
              "  </div>\n",
              "  "
            ]
          },
          "metadata": {},
          "execution_count": 8
        }
      ]
    },
    {
      "cell_type": "code",
      "source": [
        "mouse.isna().sum()"
      ],
      "metadata": {
        "colab": {
          "base_uri": "https://localhost:8080/"
        },
        "id": "VZyi1hGvTMdV",
        "outputId": "1cc591f3-dcb8-487f-96e3-022d442a7622"
      },
      "execution_count": 9,
      "outputs": [
        {
          "output_type": "execute_result",
          "data": {
            "text/plain": [
              "mouse_topleft_x      66\n",
              "mouse_topleft_y      66\n",
              "mouse_rightdown_x    65\n",
              "mouse_rightdown_y    65\n",
              "mouse_nose_x         65\n",
              "mouse_nose_y         65\n",
              "mouse_leftear_x      65\n",
              "mouse_leftear_y      65\n",
              "mouse_rightear_x     65\n",
              "mouse_rightear_y     65\n",
              "mouse_leftHip_x      65\n",
              "mouse_leftHip_y      65\n",
              "mouse_rightHip_x     65\n",
              "mouse_rightHip_y     65\n",
              "mouse_tailBase_x     66\n",
              "mouse_tailBase_y     66\n",
              "mouse_tailEnd_x      68\n",
              "mouse_tailEnd_y      68\n",
              "dtype: int64"
            ]
          },
          "metadata": {},
          "execution_count": 9
        }
      ]
    },
    {
      "cell_type": "code",
      "source": [
        "mouse=mouse.dropna()"
      ],
      "metadata": {
        "id": "78NOGqxGUIyl"
      },
      "execution_count": 10,
      "outputs": []
    },
    {
      "cell_type": "code",
      "source": [
        "mouse.isna().sum()"
      ],
      "metadata": {
        "colab": {
          "base_uri": "https://localhost:8080/"
        },
        "id": "YndEGOaohn5a",
        "outputId": "25e5b5c0-2ec4-49b5-fd61-19a6dd533fad"
      },
      "execution_count": 11,
      "outputs": [
        {
          "output_type": "execute_result",
          "data": {
            "text/plain": [
              "mouse_topleft_x      0\n",
              "mouse_topleft_y      0\n",
              "mouse_rightdown_x    0\n",
              "mouse_rightdown_y    0\n",
              "mouse_nose_x         0\n",
              "mouse_nose_y         0\n",
              "mouse_leftear_x      0\n",
              "mouse_leftear_y      0\n",
              "mouse_rightear_x     0\n",
              "mouse_rightear_y     0\n",
              "mouse_leftHip_x      0\n",
              "mouse_leftHip_y      0\n",
              "mouse_rightHip_x     0\n",
              "mouse_rightHip_y     0\n",
              "mouse_tailBase_x     0\n",
              "mouse_tailBase_y     0\n",
              "mouse_tailEnd_x      0\n",
              "mouse_tailEnd_y      0\n",
              "dtype: int64"
            ]
          },
          "metadata": {},
          "execution_count": 11
        }
      ]
    },
    {
      "cell_type": "code",
      "source": [
        "mouse.shape"
      ],
      "metadata": {
        "colab": {
          "base_uri": "https://localhost:8080/"
        },
        "id": "0baRPaKehuhD",
        "outputId": "8fce5c30-7389-4d55-d44f-5ebbdef09a7c"
      },
      "execution_count": 12,
      "outputs": [
        {
          "output_type": "execute_result",
          "data": {
            "text/plain": [
              "(171, 18)"
            ]
          },
          "metadata": {},
          "execution_count": 12
        }
      ]
    },
    {
      "cell_type": "code",
      "source": [
        "for i in mouse.columns:\n",
        "  mouse[i]=pd.to_numeric(mouse[i])"
      ],
      "metadata": {
        "id": "EETW6jGji8i0"
      },
      "execution_count": 13,
      "outputs": []
    },
    {
      "cell_type": "code",
      "source": [
        "mouse['location_x']=(mouse['mouse_rightdown_x']+mouse['mouse_topleft_x'])/2\n",
        "mouse['location_y']=(mouse['mouse_rightdown_y']+mouse['mouse_topleft_y'])/2"
      ],
      "metadata": {
        "id": "4O-7rLCpjEce"
      },
      "execution_count": 14,
      "outputs": []
    },
    {
      "cell_type": "code",
      "source": [
        "mouse.drop(columns=['mouse_topleft_x', 'mouse_topleft_y', 'mouse_rightdown_x',\n",
        "       'mouse_rightdown_y'],axis=1,inplace=True)"
      ],
      "metadata": {
        "id": "-RVA5UFGjxSa"
      },
      "execution_count": 15,
      "outputs": []
    },
    {
      "cell_type": "code",
      "source": [
        "mouse.columns"
      ],
      "metadata": {
        "colab": {
          "base_uri": "https://localhost:8080/"
        },
        "id": "gRP5L9lJj_b2",
        "outputId": "8a9b321c-3e2b-4650-9605-6b1f4adbf3dc"
      },
      "execution_count": 16,
      "outputs": [
        {
          "output_type": "execute_result",
          "data": {
            "text/plain": [
              "Index(['mouse_nose_x', 'mouse_nose_y', 'mouse_leftear_x', 'mouse_leftear_y',\n",
              "       'mouse_rightear_x', 'mouse_rightear_y', 'mouse_leftHip_x',\n",
              "       'mouse_leftHip_y', 'mouse_rightHip_x', 'mouse_rightHip_y',\n",
              "       'mouse_tailBase_x', 'mouse_tailBase_y', 'mouse_tailEnd_x',\n",
              "       'mouse_tailEnd_y', 'location_x', 'location_y'],\n",
              "      dtype='object')"
            ]
          },
          "metadata": {},
          "execution_count": 16
        }
      ]
    },
    {
      "cell_type": "markdown",
      "source": [
        "Splitting the data into predictors and response variables"
      ],
      "metadata": {
        "id": "NLaLdKpoI3vW"
      }
    },
    {
      "cell_type": "code",
      "source": [
        "X=mouse.iloc[:,:-2]\n",
        "Y=mouse.iloc[:,[-2,-1]]"
      ],
      "metadata": {
        "id": "dQifx202BCcP"
      },
      "execution_count": 17,
      "outputs": []
    },
    {
      "cell_type": "markdown",
      "source": [
        "Splitting the data into train and test with a test size of 30%"
      ],
      "metadata": {
        "id": "CT5NV4RrI9BT"
      }
    },
    {
      "cell_type": "code",
      "source": [
        "x_train,x_test,y_train,y_test=train_test_split(X,Y,test_size=0.3,random_state=0)"
      ],
      "metadata": {
        "id": "td-u3nDkBR0T"
      },
      "execution_count": 18,
      "outputs": []
    },
    {
      "cell_type": "markdown",
      "source": [
        "Building a Sequential Neural Network model with 14 input nodes, 5 hidden layers and 1 output layer with 2 nodes"
      ],
      "metadata": {
        "id": "O6kRlM-eJDMm"
      }
    },
    {
      "cell_type": "code",
      "source": [
        "model=Sequential()\n",
        "model.add(Dense(16,input_shape=(14,),activation='linear'))\n",
        "model.add(Dense(32,activation='linear'))\n",
        "model.add(Dense(64,activation='linear'))\n",
        "model.add(Dense(128,activation='linear'))\n",
        "model.add(Dense(64,activation='linear'))\n",
        "model.add(Dense(32,activation='linear'))\n",
        "model.add(Dense(16,activation='linear'))\n",
        "model.add(Dense(2,activation='linear'))"
      ],
      "metadata": {
        "id": "e49yxqBmBSKr"
      },
      "execution_count": 19,
      "outputs": []
    },
    {
      "cell_type": "markdown",
      "source": [
        "Compiling this model with L2 loss as loss function and evaluation metric"
      ],
      "metadata": {
        "id": "uTg1bRRPJPl7"
      }
    },
    {
      "cell_type": "code",
      "source": [
        "model.compile(loss='mean_squared_error', optimizer='adam', metrics=['mean_squared_error'])"
      ],
      "metadata": {
        "id": "NVT56f6wBnYm"
      },
      "execution_count": 20,
      "outputs": []
    },
    {
      "cell_type": "markdown",
      "source": [
        "Training the model"
      ],
      "metadata": {
        "id": "psLqfC5PJXXO"
      }
    },
    {
      "cell_type": "code",
      "source": [
        "history=model.fit(x_train,y_train,epochs=100,verbose=0,validation_split=0.1)"
      ],
      "metadata": {
        "id": "HY8ajCvOBsKY"
      },
      "execution_count": 21,
      "outputs": []
    },
    {
      "cell_type": "code",
      "source": [
        "hist = pd.DataFrame(history.history)\n",
        "hist['epoch'] = history.epoch\n",
        "hist.tail()"
      ],
      "metadata": {
        "id": "8bt34RjXB1Ab",
        "colab": {
          "base_uri": "https://localhost:8080/",
          "height": 206
        },
        "outputId": "33188a68-bb43-4f8f-ddee-f337aa8f9664"
      },
      "execution_count": 22,
      "outputs": [
        {
          "output_type": "execute_result",
          "data": {
            "text/plain": [
              "         loss  mean_squared_error   val_loss  val_mean_squared_error  epoch\n",
              "95  82.146584           82.146584  55.081463               55.081463     95\n",
              "96  82.841232           82.841232  55.152359               55.152359     96\n",
              "97  85.442192           85.442192  52.525723               52.525723     97\n",
              "98  89.264038           89.264038  54.587559               54.587559     98\n",
              "99  86.706757           86.706757  63.463711               63.463711     99"
            ],
            "text/html": [
              "\n",
              "  <div id=\"df-eed0e918-cf43-4d60-9ab3-8f422386856a\">\n",
              "    <div class=\"colab-df-container\">\n",
              "      <div>\n",
              "<style scoped>\n",
              "    .dataframe tbody tr th:only-of-type {\n",
              "        vertical-align: middle;\n",
              "    }\n",
              "\n",
              "    .dataframe tbody tr th {\n",
              "        vertical-align: top;\n",
              "    }\n",
              "\n",
              "    .dataframe thead th {\n",
              "        text-align: right;\n",
              "    }\n",
              "</style>\n",
              "<table border=\"1\" class=\"dataframe\">\n",
              "  <thead>\n",
              "    <tr style=\"text-align: right;\">\n",
              "      <th></th>\n",
              "      <th>loss</th>\n",
              "      <th>mean_squared_error</th>\n",
              "      <th>val_loss</th>\n",
              "      <th>val_mean_squared_error</th>\n",
              "      <th>epoch</th>\n",
              "    </tr>\n",
              "  </thead>\n",
              "  <tbody>\n",
              "    <tr>\n",
              "      <th>95</th>\n",
              "      <td>82.146584</td>\n",
              "      <td>82.146584</td>\n",
              "      <td>55.081463</td>\n",
              "      <td>55.081463</td>\n",
              "      <td>95</td>\n",
              "    </tr>\n",
              "    <tr>\n",
              "      <th>96</th>\n",
              "      <td>82.841232</td>\n",
              "      <td>82.841232</td>\n",
              "      <td>55.152359</td>\n",
              "      <td>55.152359</td>\n",
              "      <td>96</td>\n",
              "    </tr>\n",
              "    <tr>\n",
              "      <th>97</th>\n",
              "      <td>85.442192</td>\n",
              "      <td>85.442192</td>\n",
              "      <td>52.525723</td>\n",
              "      <td>52.525723</td>\n",
              "      <td>97</td>\n",
              "    </tr>\n",
              "    <tr>\n",
              "      <th>98</th>\n",
              "      <td>89.264038</td>\n",
              "      <td>89.264038</td>\n",
              "      <td>54.587559</td>\n",
              "      <td>54.587559</td>\n",
              "      <td>98</td>\n",
              "    </tr>\n",
              "    <tr>\n",
              "      <th>99</th>\n",
              "      <td>86.706757</td>\n",
              "      <td>86.706757</td>\n",
              "      <td>63.463711</td>\n",
              "      <td>63.463711</td>\n",
              "      <td>99</td>\n",
              "    </tr>\n",
              "  </tbody>\n",
              "</table>\n",
              "</div>\n",
              "      <button class=\"colab-df-convert\" onclick=\"convertToInteractive('df-eed0e918-cf43-4d60-9ab3-8f422386856a')\"\n",
              "              title=\"Convert this dataframe to an interactive table.\"\n",
              "              style=\"display:none;\">\n",
              "        \n",
              "  <svg xmlns=\"http://www.w3.org/2000/svg\" height=\"24px\"viewBox=\"0 0 24 24\"\n",
              "       width=\"24px\">\n",
              "    <path d=\"M0 0h24v24H0V0z\" fill=\"none\"/>\n",
              "    <path d=\"M18.56 5.44l.94 2.06.94-2.06 2.06-.94-2.06-.94-.94-2.06-.94 2.06-2.06.94zm-11 1L8.5 8.5l.94-2.06 2.06-.94-2.06-.94L8.5 2.5l-.94 2.06-2.06.94zm10 10l.94 2.06.94-2.06 2.06-.94-2.06-.94-.94-2.06-.94 2.06-2.06.94z\"/><path d=\"M17.41 7.96l-1.37-1.37c-.4-.4-.92-.59-1.43-.59-.52 0-1.04.2-1.43.59L10.3 9.45l-7.72 7.72c-.78.78-.78 2.05 0 2.83L4 21.41c.39.39.9.59 1.41.59.51 0 1.02-.2 1.41-.59l7.78-7.78 2.81-2.81c.8-.78.8-2.07 0-2.86zM5.41 20L4 18.59l7.72-7.72 1.47 1.35L5.41 20z\"/>\n",
              "  </svg>\n",
              "      </button>\n",
              "      \n",
              "  <style>\n",
              "    .colab-df-container {\n",
              "      display:flex;\n",
              "      flex-wrap:wrap;\n",
              "      gap: 12px;\n",
              "    }\n",
              "\n",
              "    .colab-df-convert {\n",
              "      background-color: #E8F0FE;\n",
              "      border: none;\n",
              "      border-radius: 50%;\n",
              "      cursor: pointer;\n",
              "      display: none;\n",
              "      fill: #1967D2;\n",
              "      height: 32px;\n",
              "      padding: 0 0 0 0;\n",
              "      width: 32px;\n",
              "    }\n",
              "\n",
              "    .colab-df-convert:hover {\n",
              "      background-color: #E2EBFA;\n",
              "      box-shadow: 0px 1px 2px rgba(60, 64, 67, 0.3), 0px 1px 3px 1px rgba(60, 64, 67, 0.15);\n",
              "      fill: #174EA6;\n",
              "    }\n",
              "\n",
              "    [theme=dark] .colab-df-convert {\n",
              "      background-color: #3B4455;\n",
              "      fill: #D2E3FC;\n",
              "    }\n",
              "\n",
              "    [theme=dark] .colab-df-convert:hover {\n",
              "      background-color: #434B5C;\n",
              "      box-shadow: 0px 1px 3px 1px rgba(0, 0, 0, 0.15);\n",
              "      filter: drop-shadow(0px 1px 2px rgba(0, 0, 0, 0.3));\n",
              "      fill: #FFFFFF;\n",
              "    }\n",
              "  </style>\n",
              "\n",
              "      <script>\n",
              "        const buttonEl =\n",
              "          document.querySelector('#df-eed0e918-cf43-4d60-9ab3-8f422386856a button.colab-df-convert');\n",
              "        buttonEl.style.display =\n",
              "          google.colab.kernel.accessAllowed ? 'block' : 'none';\n",
              "\n",
              "        async function convertToInteractive(key) {\n",
              "          const element = document.querySelector('#df-eed0e918-cf43-4d60-9ab3-8f422386856a');\n",
              "          const dataTable =\n",
              "            await google.colab.kernel.invokeFunction('convertToInteractive',\n",
              "                                                     [key], {});\n",
              "          if (!dataTable) return;\n",
              "\n",
              "          const docLinkHtml = 'Like what you see? Visit the ' +\n",
              "            '<a target=\"_blank\" href=https://colab.research.google.com/notebooks/data_table.ipynb>data table notebook</a>'\n",
              "            + ' to learn more about interactive tables.';\n",
              "          element.innerHTML = '';\n",
              "          dataTable['output_type'] = 'display_data';\n",
              "          await google.colab.output.renderOutput(dataTable, element);\n",
              "          const docLink = document.createElement('div');\n",
              "          docLink.innerHTML = docLinkHtml;\n",
              "          element.appendChild(docLink);\n",
              "        }\n",
              "      </script>\n",
              "    </div>\n",
              "  </div>\n",
              "  "
            ]
          },
          "metadata": {},
          "execution_count": 22
        }
      ]
    },
    {
      "cell_type": "code",
      "source": [
        "plt.plot(history.history['loss'], label='loss')\n",
        "plt.plot(history.history['val_loss'], label='val_loss')\n",
        "plt.xlabel('Epoch')\n",
        "plt.ylabel('Error')\n",
        "plt.legend()\n",
        "plt.grid(True)"
      ],
      "metadata": {
        "colab": {
          "base_uri": "https://localhost:8080/",
          "height": 279
        },
        "id": "whOXt8M4B58g",
        "outputId": "189b9613-3a95-41b2-94cb-eb7709355336"
      },
      "execution_count": 23,
      "outputs": [
        {
          "output_type": "display_data",
          "data": {
            "text/plain": [
              "<Figure size 432x288 with 1 Axes>"
            ],
            "image/png": "[encoded data removed]"
          },
          "metadata": {
            "needs_background": "light"
          }
        }
      ]
    },
    {
      "cell_type": "markdown",
      "source": [
        "Predicting using the unseen data"
      ],
      "metadata": {
        "id": "65-Iz2-VJe--"
      }
    },
    {
      "cell_type": "code",
      "source": [
        "y_pred=model.predict(x_test)"
      ],
      "metadata": {
        "colab": {
          "base_uri": "https://localhost:8080/"
        },
        "id": "P4yHOjAhB_ai",
        "outputId": "909c768c-40cf-4312-f5bc-d86d359b3f0d"
      },
      "execution_count": 24,
      "outputs": [
        {
          "output_type": "stream",
          "name": "stdout",
          "text": [
            "2/2 [==============================] - 0s 8ms/step\n"
          ]
        }
      ]
    },
    {
      "cell_type": "markdown",
      "source": [
        "Evaluating our model's predictions"
      ],
      "metadata": {
        "id": "3SDz1hIDJvcv"
      }
    },
    {
      "cell_type": "code",
      "source": [
        "print(\"R2 SCORE : \",r2_score(y_test,y_pred))"
      ],
      "metadata": {
        "colab": {
          "base_uri": "https://localhost:8080/"
        },
        "id": "yd4uPVIwCHvJ",
        "outputId": "9f5e8bf3-fc88-43ef-838a-335cbec25e21"
      },
      "execution_count": 25,
      "outputs": [
        {
          "output_type": "stream",
          "name": "stdout",
          "text": [
            "R2 SCORE :  0.9698801333248211\n"
          ]
        }
      ]
    },
    {
      "cell_type": "code",
      "source": [
        "print(\"MEAN SQUARED ERROR : \",mean_squared_error(y_test,y_pred))"
      ],
      "metadata": {
        "colab": {
          "base_uri": "https://localhost:8080/"
        },
        "id": "GVz5XRQrJqMX",
        "outputId": "a0dbb9e8-dfd6-4e93-c0cd-33d304cc5c72"
      },
      "execution_count": 26,
      "outputs": [
        {
          "output_type": "stream",
          "name": "stdout",
          "text": [
            "MEAN SQUARED ERROR :  102.10980102213534\n"
          ]
        }
      ]
    },
    {
      "cell_type": "markdown",
      "source": [
        "Visualizing the actual and predicted location_x,location_y"
      ],
      "metadata": {
        "id": "gO4N73-nJurc"
      }
    },
    {
      "cell_type": "code",
      "source": [
        "plt.scatter(range(y_test.shape[0]),y_test.iloc[:,0],c=\"red\")\n",
        "plt.scatter(range(y_test.shape[0]),pd.DataFrame(y_pred).iloc[:,0])"
      ],
      "metadata": {
        "colab": {
          "base_uri": "https://localhost:8080/",
          "height": 283
        },
        "id": "GsWeEBrtCb7I",
        "outputId": "beb28a8e-0a3d-4870-fabe-82c8b5bf709e"
      },
      "execution_count": 27,
      "outputs": [
        {
          "output_type": "execute_result",
          "data": {
            "text/plain": [
              "<matplotlib.collections.PathCollection at 0x7f3751c40850>"
            ]
          },
          "metadata": {},
          "execution_count": 27
        },
        {
          "output_type": "display_data",
          "data": {
            "text/plain": [
              "<Figure size 432x288 with 1 Axes>"
            ],
            "image/png": "[encoded data removed]"
          },
          "metadata": {
            "needs_background": "light"
          }
        }
      ]
    },
    {
      "cell_type": "code",
      "source": [
        "plt.scatter(range(y_test.shape[0]),y_test.iloc[:,1],c=\"red\")\n",
        "plt.scatter(range(y_test.shape[0]),pd.DataFrame(y_pred).iloc[:,1])"
      ],
      "metadata": {
        "colab": {
          "base_uri": "https://localhost:8080/",
          "height": 283
        },
        "id": "jKF_4xI3C_UR",
        "outputId": "51d83f15-01b1-4219-e6a9-cbe0056846cb"
      },
      "execution_count": 28,
      "outputs": [
        {
          "output_type": "execute_result",
          "data": {
            "text/plain": [
              "<matplotlib.collections.PathCollection at 0x7f374d4efa50>"
            ]
          },
          "metadata": {},
          "execution_count": 28
        },
        {
          "output_type": "display_data",
          "data": {
            "text/plain": [
              "<Figure size 432x288 with 1 Axes>"
            ],
            "image/png": "[encoded data removed]"
          },
          "metadata": {
            "needs_background": "light"
          }
        }
      ]
    },
    {
      "cell_type": "code",
      "source": [
        "location=pd.DataFrame(y_test)\n",
        "location['predict_location_x']=[i[0] for i in y_pred]\n",
        "location['predict_location_y']=[i[1] for i in y_pred]\n",
        "location.head(10)"
      ],
      "metadata": {
        "id": "3y5xsvWtDU6t",
        "colab": {
          "base_uri": "https://localhost:8080/",
          "height": 394
        },
        "outputId": "6f3adebe-29f1-4b77-e08d-859c5147ee00"
      },
      "execution_count": 29,
      "outputs": [
        {
          "output_type": "execute_result",
          "data": {
            "text/plain": [
              "              location_x  location_y  predict_location_x  predict_location_y\n",
              "scorer                                                                      \n",
              "labeled-data  283.116364  258.918059          271.027039          261.254761\n",
              "labeled-data  234.213618  272.219606          218.314789          261.221222\n",
              "labeled-data  260.816712  170.110673          265.302734          169.661743\n",
              "labeled-data  211.522744  193.975212          213.253799          206.525269\n",
              "labeled-data  236.560950  230.750077          235.113098          216.003983\n",
              "labeled-data  453.689141  242.486736          459.703491          247.737030\n",
              "labeled-data  177.095211  242.877958          187.411209          246.610580\n",
              "labeled-data  264.337709  272.610828          279.230469          281.085541\n",
              "labeled-data  266.293819  231.923743          266.675995          242.431747\n",
              "labeled-data  415.349388  271.828384          399.953735          266.786987"
            ],
            "text/html": [
              "\n",
              "  <div id=\"df-9a6c5379-9b6f-4d71-b71e-8f787e1dce22\">\n",
              "    <div class=\"colab-df-container\">\n",
              "      <div>\n",
              "<style scoped>\n",
              "    .dataframe tbody tr th:only-of-type {\n",
              "        vertical-align: middle;\n",
              "    }\n",
              "\n",
              "    .dataframe tbody tr th {\n",
              "        vertical-align: top;\n",
              "    }\n",
              "\n",
              "    .dataframe thead th {\n",
              "        text-align: right;\n",
              "    }\n",
              "</style>\n",
              "<table border=\"1\" class=\"dataframe\">\n",
              "  <thead>\n",
              "    <tr style=\"text-align: right;\">\n",
              "      <th></th>\n",
              "      <th>location_x</th>\n",
              "      <th>location_y</th>\n",
              "      <th>predict_location_x</th>\n",
              "      <th>predict_location_y</th>\n",
              "    </tr>\n",
              "    <tr>\n",
              "      <th>scorer</th>\n",
              "      <th></th>\n",
              "      <th></th>\n",
              "      <th></th>\n",
              "      <th></th>\n",
              "    </tr>\n",
              "  </thead>\n",
              "  <tbody>\n",
              "    <tr>\n",
              "      <th>labeled-data</th>\n",
              "      <td>283.116364</td>\n",
              "      <td>258.918059</td>\n",
              "      <td>271.027039</td>\n",
              "      <td>261.254761</td>\n",
              "    </tr>\n",
              "    <tr>\n",
              "      <th>labeled-data</th>\n",
              "      <td>234.213618</td>\n",
              "      <td>272.219606</td>\n",
              "      <td>218.314789</td>\n",
              "      <td>261.221222</td>\n",
              "    </tr>\n",
              "    <tr>\n",
              "      <th>labeled-data</th>\n",
              "      <td>260.816712</td>\n",
              "      <td>170.110673</td>\n",
              "      <td>265.302734</td>\n",
              "      <td>169.661743</td>\n",
              "    </tr>\n",
              "    <tr>\n",
              "      <th>labeled-data</th>\n",
              "      <td>211.522744</td>\n",
              "      <td>193.975212</td>\n",
              "      <td>213.253799</td>\n",
              "      <td>206.525269</td>\n",
              "    </tr>\n",
              "    <tr>\n",
              "      <th>labeled-data</th>\n",
              "      <td>236.560950</td>\n",
              "      <td>230.750077</td>\n",
              "      <td>235.113098</td>\n",
              "      <td>216.003983</td>\n",
              "    </tr>\n",
              "    <tr>\n",
              "      <th>labeled-data</th>\n",
              "      <td>453.689141</td>\n",
              "      <td>242.486736</td>\n",
              "      <td>459.703491</td>\n",
              "      <td>247.737030</td>\n",
              "    </tr>\n",
              "    <tr>\n",
              "      <th>labeled-data</th>\n",
              "      <td>177.095211</td>\n",
              "      <td>242.877958</td>\n",
              "      <td>187.411209</td>\n",
              "      <td>246.610580</td>\n",
              "    </tr>\n",
              "    <tr>\n",
              "      <th>labeled-data</th>\n",
              "      <td>264.337709</td>\n",
              "      <td>272.610828</td>\n",
              "      <td>279.230469</td>\n",
              "      <td>281.085541</td>\n",
              "    </tr>\n",
              "    <tr>\n",
              "      <th>labeled-data</th>\n",
              "      <td>266.293819</td>\n",
              "      <td>231.923743</td>\n",
              "      <td>266.675995</td>\n",
              "      <td>242.431747</td>\n",
              "    </tr>\n",
              "    <tr>\n",
              "      <th>labeled-data</th>\n",
              "      <td>415.349388</td>\n",
              "      <td>271.828384</td>\n",
              "      <td>399.953735</td>\n",
              "      <td>266.786987</td>\n",
              "    </tr>\n",
              "  </tbody>\n",
              "</table>\n",
              "</div>\n",
              "      <button class=\"colab-df-convert\" onclick=\"convertToInteractive('df-9a6c5379-9b6f-4d71-b71e-8f787e1dce22')\"\n",
              "              title=\"Convert this dataframe to an interactive table.\"\n",
              "              style=\"display:none;\">\n",
              "        \n",
              "  <svg xmlns=\"http://www.w3.org/2000/svg\" height=\"24px\"viewBox=\"0 0 24 24\"\n",
              "       width=\"24px\">\n",
              "    <path d=\"M0 0h24v24H0V0z\" fill=\"none\"/>\n",
              "    <path d=\"M18.56 5.44l.94 2.06.94-2.06 2.06-.94-2.06-.94-.94-2.06-.94 2.06-2.06.94zm-11 1L8.5 8.5l.94-2.06 2.06-.94-2.06-.94L8.5 2.5l-.94 2.06-2.06.94zm10 10l.94 2.06.94-2.06 2.06-.94-2.06-.94-.94-2.06-.94 2.06-2.06.94z\"/><path d=\"M17.41 7.96l-1.37-1.37c-.4-.4-.92-.59-1.43-.59-.52 0-1.04.2-1.43.59L10.3 9.45l-7.72 7.72c-.78.78-.78 2.05 0 2.83L4 21.41c.39.39.9.59 1.41.59.51 0 1.02-.2 1.41-.59l7.78-7.78 2.81-2.81c.8-.78.8-2.07 0-2.86zM5.41 20L4 18.59l7.72-7.72 1.47 1.35L5.41 20z\"/>\n",
              "  </svg>\n",
              "      </button>\n",
              "      \n",
              "  <style>\n",
              "    .colab-df-container {\n",
              "      display:flex;\n",
              "      flex-wrap:wrap;\n",
              "      gap: 12px;\n",
              "    }\n",
              "\n",
              "    .colab-df-convert {\n",
              "      background-color: #E8F0FE;\n",
              "      border: none;\n",
              "      border-radius: 50%;\n",
              "      cursor: pointer;\n",
              "      display: none;\n",
              "      fill: #1967D2;\n",
              "      height: 32px;\n",
              "      padding: 0 0 0 0;\n",
              "      width: 32px;\n",
              "    }\n",
              "\n",
              "    .colab-df-convert:hover {\n",
              "      background-color: #E2EBFA;\n",
              "      box-shadow: 0px 1px 2px rgba(60, 64, 67, 0.3), 0px 1px 3px 1px rgba(60, 64, 67, 0.15);\n",
              "      fill: #174EA6;\n",
              "    }\n",
              "\n",
              "    [theme=dark] .colab-df-convert {\n",
              "      background-color: #3B4455;\n",
              "      fill: #D2E3FC;\n",
              "    }\n",
              "\n",
              "    [theme=dark] .colab-df-convert:hover {\n",
              "      background-color: #434B5C;\n",
              "      box-shadow: 0px 1px 3px 1px rgba(0, 0, 0, 0.15);\n",
              "      filter: drop-shadow(0px 1px 2px rgba(0, 0, 0, 0.3));\n",
              "      fill: #FFFFFF;\n",
              "    }\n",
              "  </style>\n",
              "\n",
              "      <script>\n",
              "        const buttonEl =\n",
              "          document.querySelector('#df-9a6c5379-9b6f-4d71-b71e-8f787e1dce22 button.colab-df-convert');\n",
              "        buttonEl.style.display =\n",
              "          google.colab.kernel.accessAllowed ? 'block' : 'none';\n",
              "\n",
              "        async function convertToInteractive(key) {\n",
              "          const element = document.querySelector('#df-9a6c5379-9b6f-4d71-b71e-8f787e1dce22');\n",
              "          const dataTable =\n",
              "            await google.colab.kernel.invokeFunction('convertToInteractive',\n",
              "                                                     [key], {});\n",
              "          if (!dataTable) return;\n",
              "\n",
              "          const docLinkHtml = 'Like what you see? Visit the ' +\n",
              "            '<a target=\"_blank\" href=https://colab.research.google.com/notebooks/data_table.ipynb>data table notebook</a>'\n",
              "            + ' to learn more about interactive tables.';\n",
              "          element.innerHTML = '';\n",
              "          dataTable['output_type'] = 'display_data';\n",
              "          await google.colab.output.renderOutput(dataTable, element);\n",
              "          const docLink = document.createElement('div');\n",
              "          docLink.innerHTML = docLinkHtml;\n",
              "          element.appendChild(docLink);\n",
              "        }\n",
              "      </script>\n",
              "    </div>\n",
              "  </div>\n",
              "  "
            ]
          },
          "metadata": {},
          "execution_count": 29
        }
      ]
    },
    {
      "cell_type": "code",
      "source": [
        "model.summary()"
      ],
      "metadata": {
        "colab": {
          "base_uri": "https://localhost:8080/"
        },
        "id": "9g6jiHVBtV94",
        "outputId": "513d6024-2ca3-4a6e-c4f8-05f9d2c963fc"
      },
      "execution_count": 30,
      "outputs": [
        {
          "output_type": "stream",
          "name": "stdout",
          "text": [
            "Model: \"sequential\"\n",
            "_________________________________________________________________\n",
            " Layer (type)                Output Shape              Param #   \n",
            "=================================================================\n",
            " dense (Dense)               (None, 16)                240       \n",
            "                                                                 \n",
            " dense_1 (Dense)             (None, 32)                544       \n",
            "                                                                 \n",
            " dense_2 (Dense)             (None, 64)                2112      \n",
            "                                                                 \n",
            " dense_3 (Dense)             (None, 128)               8320      \n",
            "                                                                 \n",
            " dense_4 (Dense)             (None, 64)                8256      \n",
            "                                                                 \n",
            " dense_5 (Dense)             (None, 32)                2080      \n",
            "                                                                 \n",
            " dense_6 (Dense)             (None, 16)                528       \n",
            "                                                                 \n",
            " dense_7 (Dense)             (None, 2)                 34        \n",
            "                                                                 \n",
            "=================================================================\n",
            "Total params: 22,114\n",
            "Trainable params: 22,114\n",
            "Non-trainable params: 0\n",
            "_________________________________________________________________\n"
          ]
        }
      ]
    },
    {
      "cell_type": "code",
      "source": [],
      "metadata": {
        "id": "oymyWKdWtXw7"
      },
      "execution_count": 30,
      "outputs": []
    }
  ]
}