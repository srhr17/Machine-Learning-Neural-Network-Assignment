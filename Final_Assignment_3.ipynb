{
  "nbformat": 4,
  "nbformat_minor": 0,
  "metadata": {
    "colab": {
      "provenance": []
    },
    "kernelspec": {
      "name": "python3",
      "display_name": "Python 3"
    },
    "language_info": {
      "name": "python"
    }
  },
  "cells": [
    {
      "cell_type": "code",
      "execution_count": 1,
      "metadata": {
        "id": "QX68Po0xLBNH"
      },
      "outputs": [],
      "source": [
        "import pandas as pd\n",
        "import matplotlib.pyplot as plt\n",
        "from keras.models import Sequential\n",
        "from keras.layers import Dense,Dropout\n",
        "from keras.callbacks import EarlyStopping\n",
        "from sklearn.model_selection import train_test_split\n",
        "from sklearn.metrics import r2_score,mean_squared_error"
      ]
    },
    {
      "cell_type": "markdown",
      "source": [
        "Reading the Annotated Data"
      ],
      "metadata": {
        "id": "oW9Bmh-HIvhP"
      }
    },
    {
      "cell_type": "code",
      "source": [
        "df=pd.read_csv('/content/drive/MyDrive/Fall 2022/Machine Learning/Assignment 3/A20480978_CollectedData_annotation.csv',index_col=0)"
      ],
      "metadata": {
        "id": "WpMVqD4qLVP3"
      },
      "execution_count": 2,
      "outputs": []
    },
    {
      "cell_type": "code",
      "source": [
        "df.head()"
      ],
      "metadata": {
        "colab": {
          "base_uri": "https://localhost:8080/",
          "height": 383
        },
        "id": "-eGGYiHqLclV",
        "outputId": "47c9708c-bb46-4214-e11f-88bb70c292d9"
      },
      "execution_count": 3,
      "outputs": [
        {
          "output_type": "execute_result",
          "data": {
            "text/plain": [
              "              Unnamed: 1                                         Unnamed: 2  \\\n",
              "scorer                                                                        \n",
              "individuals          NaN                                                NaN   \n",
              "bodyparts            NaN                                                NaN   \n",
              "coords               NaN                                                NaN   \n",
              "labeled-data        85.0  A_male_in_a_new_cage_face_view_3_2022-08-10_15...   \n",
              "labeled-data        85.0  A_male_in_a_new_cage_face_view_3_2022-08-10_15...   \n",
              "\n",
              "                      annotation        annotation.1       annotation.2  \\\n",
              "scorer                                                                    \n",
              "individuals               mouse1              mouse1             mouse1   \n",
              "bodyparts                topleft             topleft          rightdown   \n",
              "coords                         x                   y                  x   \n",
              "labeled-data   235.0087604175184  187.39317491121764  481.7713439540003   \n",
              "labeled-data  234.60483979437058  204.14698358385942  457.6013604657909   \n",
              "\n",
              "                    annotation.3        annotation.4        annotation.5  \\\n",
              "scorer                                                                     \n",
              "individuals               mouse1              mouse1              mouse1   \n",
              "bodyparts              rightdown                nose                nose   \n",
              "coords                         y                   x                   y   \n",
              "labeled-data  315.30222050581585  418.38279038499576  211.16388249959422   \n",
              "labeled-data  307.42958263167503   439.6051500256412   300.3875872420512   \n",
              "\n",
              "                    annotation.6        annotation.7  ... annotation.26  \\\n",
              "scorer                                                ...                 \n",
              "individuals               mouse1              mouse1  ...        mouse2   \n",
              "bodyparts                leftear             leftear  ...      rightear   \n",
              "coords                         x                   y  ...             x   \n",
              "labeled-data  399.13983662297653  211.16388249959422  ...           NaN   \n",
              "labeled-data  455.25402866924964  232.31496514235448  ...           NaN   \n",
              "\n",
              "             annotation.27 annotation.28 annotation.29 annotation.30  \\\n",
              "scorer                                                                 \n",
              "individuals         mouse2        mouse2        mouse2        mouse2   \n",
              "bodyparts         rightear       leftHip       leftHip      rightHip   \n",
              "coords                   y             x             y             x   \n",
              "labeled-data           NaN           NaN           NaN           NaN   \n",
              "labeled-data           NaN           NaN           NaN           NaN   \n",
              "\n",
              "             annotation.31 annotation.32 annotation.33 annotation.34  \\\n",
              "scorer                                                                 \n",
              "individuals         mouse2        mouse2        mouse2        mouse2   \n",
              "bodyparts         rightHip      tailBase      tailBase       tailEnd   \n",
              "coords                   y             x             y             x   \n",
              "labeled-data           NaN           NaN           NaN           NaN   \n",
              "labeled-data           NaN           NaN           NaN           NaN   \n",
              "\n",
              "             annotation.35  \n",
              "scorer                      \n",
              "individuals         mouse2  \n",
              "bodyparts          tailEnd  \n",
              "coords                   y  \n",
              "labeled-data           NaN  \n",
              "labeled-data           NaN  \n",
              "\n",
              "[5 rows x 38 columns]"
            ],
            "text/html": [
              "\n",
              "  <div id=\"df-448c9604-fa91-40d3-a9f3-9c83cae4e82d\">\n",
              "    <div class=\"colab-df-container\">\n",
              "      <div>\n",
              "<style scoped>\n",
              "    .dataframe tbody tr th:only-of-type {\n",
              "        vertical-align: middle;\n",
              "    }\n",
              "\n",
              "    .dataframe tbody tr th {\n",
              "        vertical-align: top;\n",
              "    }\n",
              "\n",
              "    .dataframe thead th {\n",
              "        text-align: right;\n",
              "    }\n",
              "</style>\n",
              "<table border=\"1\" class=\"dataframe\">\n",
              "  <thead>\n",
              "    <tr style=\"text-align: right;\">\n",
              "      <th></th>\n",
              "      <th>Unnamed: 1</th>\n",
              "      <th>Unnamed: 2</th>\n",
              "      <th>annotation</th>\n",
              "      <th>annotation.1</th>\n",
              "      <th>annotation.2</th>\n",
              "      <th>annotation.3</th>\n",
              "      <th>annotation.4</th>\n",
              "      <th>annotation.5</th>\n",
              "      <th>annotation.6</th>\n",
              "      <th>annotation.7</th>\n",
              "      <th>...</th>\n",
              "      <th>annotation.26</th>\n",
              "      <th>annotation.27</th>\n",
              "      <th>annotation.28</th>\n",
              "      <th>annotation.29</th>\n",
              "      <th>annotation.30</th>\n",
              "      <th>annotation.31</th>\n",
              "      <th>annotation.32</th>\n",
              "      <th>annotation.33</th>\n",
              "      <th>annotation.34</th>\n",
              "      <th>annotation.35</th>\n",
              "    </tr>\n",
              "    <tr>\n",
              "      <th>scorer</th>\n",
              "      <th></th>\n",
              "      <th></th>\n",
              "      <th></th>\n",
              "      <th></th>\n",
              "      <th></th>\n",
              "      <th></th>\n",
              "      <th></th>\n",
              "      <th></th>\n",
              "      <th></th>\n",
              "      <th></th>\n",
              "      <th></th>\n",
              "      <th></th>\n",
              "      <th></th>\n",
              "      <th></th>\n",
              "      <th></th>\n",
              "      <th></th>\n",
              "      <th></th>\n",
              "      <th></th>\n",
              "      <th></th>\n",
              "      <th></th>\n",
              "      <th></th>\n",
              "    </tr>\n",
              "  </thead>\n",
              "  <tbody>\n",
              "    <tr>\n",
              "      <th>individuals</th>\n",
              "      <td>NaN</td>\n",
              "      <td>NaN</td>\n",
              "      <td>mouse1</td>\n",
              "      <td>mouse1</td>\n",
              "      <td>mouse1</td>\n",
              "      <td>mouse1</td>\n",
              "      <td>mouse1</td>\n",
              "      <td>mouse1</td>\n",
              "      <td>mouse1</td>\n",
              "      <td>mouse1</td>\n",
              "      <td>...</td>\n",
              "      <td>mouse2</td>\n",
              "      <td>mouse2</td>\n",
              "      <td>mouse2</td>\n",
              "      <td>mouse2</td>\n",
              "      <td>mouse2</td>\n",
              "      <td>mouse2</td>\n",
              "      <td>mouse2</td>\n",
              "      <td>mouse2</td>\n",
              "      <td>mouse2</td>\n",
              "      <td>mouse2</td>\n",
              "    </tr>\n",
              "    <tr>\n",
              "      <th>bodyparts</th>\n",
              "      <td>NaN</td>\n",
              "      <td>NaN</td>\n",
              "      <td>topleft</td>\n",
              "      <td>topleft</td>\n",
              "      <td>rightdown</td>\n",
              "      <td>rightdown</td>\n",
              "      <td>nose</td>\n",
              "      <td>nose</td>\n",
              "      <td>leftear</td>\n",
              "      <td>leftear</td>\n",
              "      <td>...</td>\n",
              "      <td>rightear</td>\n",
              "      <td>rightear</td>\n",
              "      <td>leftHip</td>\n",
              "      <td>leftHip</td>\n",
              "      <td>rightHip</td>\n",
              "      <td>rightHip</td>\n",
              "      <td>tailBase</td>\n",
              "      <td>tailBase</td>\n",
              "      <td>tailEnd</td>\n",
              "      <td>tailEnd</td>\n",
              "    </tr>\n",
              "    <tr>\n",
              "      <th>coords</th>\n",
              "      <td>NaN</td>\n",
              "      <td>NaN</td>\n",
              "      <td>x</td>\n",
              "      <td>y</td>\n",
              "      <td>x</td>\n",
              "      <td>y</td>\n",
              "      <td>x</td>\n",
              "      <td>y</td>\n",
              "      <td>x</td>\n",
              "      <td>y</td>\n",
              "      <td>...</td>\n",
              "      <td>x</td>\n",
              "      <td>y</td>\n",
              "      <td>x</td>\n",
              "      <td>y</td>\n",
              "      <td>x</td>\n",
              "      <td>y</td>\n",
              "      <td>x</td>\n",
              "      <td>y</td>\n",
              "      <td>x</td>\n",
              "      <td>y</td>\n",
              "    </tr>\n",
              "    <tr>\n",
              "      <th>labeled-data</th>\n",
              "      <td>85.0</td>\n",
              "      <td>A_male_in_a_new_cage_face_view_3_2022-08-10_15...</td>\n",
              "      <td>235.0087604175184</td>\n",
              "      <td>187.39317491121764</td>\n",
              "      <td>481.7713439540003</td>\n",
              "      <td>315.30222050581585</td>\n",
              "      <td>418.38279038499576</td>\n",
              "      <td>211.16388249959422</td>\n",
              "      <td>399.13983662297653</td>\n",
              "      <td>211.16388249959422</td>\n",
              "      <td>...</td>\n",
              "      <td>NaN</td>\n",
              "      <td>NaN</td>\n",
              "      <td>NaN</td>\n",
              "      <td>NaN</td>\n",
              "      <td>NaN</td>\n",
              "      <td>NaN</td>\n",
              "      <td>NaN</td>\n",
              "      <td>NaN</td>\n",
              "      <td>NaN</td>\n",
              "      <td>NaN</td>\n",
              "    </tr>\n",
              "    <tr>\n",
              "      <th>labeled-data</th>\n",
              "      <td>85.0</td>\n",
              "      <td>A_male_in_a_new_cage_face_view_3_2022-08-10_15...</td>\n",
              "      <td>234.60483979437058</td>\n",
              "      <td>204.14698358385942</td>\n",
              "      <td>457.6013604657909</td>\n",
              "      <td>307.42958263167503</td>\n",
              "      <td>439.6051500256412</td>\n",
              "      <td>300.3875872420512</td>\n",
              "      <td>455.25402866924964</td>\n",
              "      <td>232.31496514235448</td>\n",
              "      <td>...</td>\n",
              "      <td>NaN</td>\n",
              "      <td>NaN</td>\n",
              "      <td>NaN</td>\n",
              "      <td>NaN</td>\n",
              "      <td>NaN</td>\n",
              "      <td>NaN</td>\n",
              "      <td>NaN</td>\n",
              "      <td>NaN</td>\n",
              "      <td>NaN</td>\n",
              "      <td>NaN</td>\n",
              "    </tr>\n",
              "  </tbody>\n",
              "</table>\n",
              "<p>5 rows × 38 columns</p>\n",
              "</div>\n",
              "      <button class=\"colab-df-convert\" onclick=\"convertToInteractive('df-448c9604-fa91-40d3-a9f3-9c83cae4e82d')\"\n",
              "              title=\"Convert this dataframe to an interactive table.\"\n",
              "              style=\"display:none;\">\n",
              "        \n",
              "  <svg xmlns=\"http://www.w3.org/2000/svg\" height=\"24px\"viewBox=\"0 0 24 24\"\n",
              "       width=\"24px\">\n",
              "    <path d=\"M0 0h24v24H0V0z\" fill=\"none\"/>\n",
              "    <path d=\"M18.56 5.44l.94 2.06.94-2.06 2.06-.94-2.06-.94-.94-2.06-.94 2.06-2.06.94zm-11 1L8.5 8.5l.94-2.06 2.06-.94-2.06-.94L8.5 2.5l-.94 2.06-2.06.94zm10 10l.94 2.06.94-2.06 2.06-.94-2.06-.94-.94-2.06-.94 2.06-2.06.94z\"/><path d=\"M17.41 7.96l-1.37-1.37c-.4-.4-.92-.59-1.43-.59-.52 0-1.04.2-1.43.59L10.3 9.45l-7.72 7.72c-.78.78-.78 2.05 0 2.83L4 21.41c.39.39.9.59 1.41.59.51 0 1.02-.2 1.41-.59l7.78-7.78 2.81-2.81c.8-.78.8-2.07 0-2.86zM5.41 20L4 18.59l7.72-7.72 1.47 1.35L5.41 20z\"/>\n",
              "  </svg>\n",
              "      </button>\n",
              "      \n",
              "  <style>\n",
              "    .colab-df-container {\n",
              "      display:flex;\n",
              "      flex-wrap:wrap;\n",
              "      gap: 12px;\n",
              "    }\n",
              "\n",
              "    .colab-df-convert {\n",
              "      background-color: #E8F0FE;\n",
              "      border: none;\n",
              "      border-radius: 50%;\n",
              "      cursor: pointer;\n",
              "      display: none;\n",
              "      fill: #1967D2;\n",
              "      height: 32px;\n",
              "      padding: 0 0 0 0;\n",
              "      width: 32px;\n",
              "    }\n",
              "\n",
              "    .colab-df-convert:hover {\n",
              "      background-color: #E2EBFA;\n",
              "      box-shadow: 0px 1px 2px rgba(60, 64, 67, 0.3), 0px 1px 3px 1px rgba(60, 64, 67, 0.15);\n",
              "      fill: #174EA6;\n",
              "    }\n",
              "\n",
              "    [theme=dark] .colab-df-convert {\n",
              "      background-color: #3B4455;\n",
              "      fill: #D2E3FC;\n",
              "    }\n",
              "\n",
              "    [theme=dark] .colab-df-convert:hover {\n",
              "      background-color: #434B5C;\n",
              "      box-shadow: 0px 1px 3px 1px rgba(0, 0, 0, 0.15);\n",
              "      filter: drop-shadow(0px 1px 2px rgba(0, 0, 0, 0.3));\n",
              "      fill: #FFFFFF;\n",
              "    }\n",
              "  </style>\n",
              "\n",
              "      <script>\n",
              "        const buttonEl =\n",
              "          document.querySelector('#df-448c9604-fa91-40d3-a9f3-9c83cae4e82d button.colab-df-convert');\n",
              "        buttonEl.style.display =\n",
              "          google.colab.kernel.accessAllowed ? 'block' : 'none';\n",
              "\n",
              "        async function convertToInteractive(key) {\n",
              "          const element = document.querySelector('#df-448c9604-fa91-40d3-a9f3-9c83cae4e82d');\n",
              "          const dataTable =\n",
              "            await google.colab.kernel.invokeFunction('convertToInteractive',\n",
              "                                                     [key], {});\n",
              "          if (!dataTable) return;\n",
              "\n",
              "          const docLinkHtml = 'Like what you see? Visit the ' +\n",
              "            '<a target=\"_blank\" href=https://colab.research.google.com/notebooks/data_table.ipynb>data table notebook</a>'\n",
              "            + ' to learn more about interactive tables.';\n",
              "          element.innerHTML = '';\n",
              "          dataTable['output_type'] = 'display_data';\n",
              "          await google.colab.output.renderOutput(dataTable, element);\n",
              "          const docLink = document.createElement('div');\n",
              "          docLink.innerHTML = docLinkHtml;\n",
              "          element.appendChild(docLink);\n",
              "        }\n",
              "      </script>\n",
              "    </div>\n",
              "  </div>\n",
              "  "
            ]
          },
          "metadata": {},
          "execution_count": 3
        }
      ]
    },
    {
      "cell_type": "markdown",
      "source": [
        "Preprocessing the data"
      ],
      "metadata": {
        "id": "q3ZQwj6EIzgh"
      }
    },
    {
      "cell_type": "code",
      "source": [
        "df.columns=list(df.iloc[0,:]+\"_\"+df.iloc[1,:]+\"_\"+df.iloc[2,:])\n",
        "dfName=df.iloc[:,:2]\n",
        "df=df.iloc[3:,2:]"
      ],
      "metadata": {
        "id": "bQPDRRruMRkl"
      },
      "execution_count": 4,
      "outputs": []
    },
    {
      "cell_type": "code",
      "source": [
        "df.head()"
      ],
      "metadata": {
        "colab": {
          "base_uri": "https://localhost:8080/",
          "height": 418
        },
        "id": "__1t5dU8Oibr",
        "outputId": "fe74683d-b187-4f5c-c351-18485a75c7d9"
      },
      "execution_count": 5,
      "outputs": [
        {
          "output_type": "execute_result",
          "data": {
            "text/plain": [
              "                mouse1_topleft_x    mouse1_topleft_y mouse1_rightdown_x  \\\n",
              "scorer                                                                    \n",
              "labeled-data   235.0087604175184  187.39317491121764  481.7713439540003   \n",
              "labeled-data  234.60483979437058  204.14698358385942  457.6013604657909   \n",
              "labeled-data   225.2155126082055    80.5208422993527  288.5934711148197   \n",
              "labeled-data  315.97900874113446  182.23855348280756  387.9638505017333   \n",
              "labeled-data  146.97111939016332   216.6660864987462  362.1432007397794   \n",
              "\n",
              "              mouse1_rightdown_y       mouse1_nose_x       mouse1_nose_y  \\\n",
              "scorer                                                                     \n",
              "labeled-data  315.30222050581585  418.38279038499576  211.16388249959422   \n",
              "labeled-data  307.42958263167503   439.6051500256412   300.3875872420512   \n",
              "labeled-data  222.92563795618952   249.4712745057986  100.86438453604367   \n",
              "labeled-data  244.83406805724127   384.0516308408312  204.92942751603977   \n",
              "labeled-data  330.90290059708775   164.1848858981326  223.70808188837003   \n",
              "\n",
              "                mouse1_leftear_x    mouse1_leftear_y   mouse1_rightear_x  \\\n",
              "scorer                                                                     \n",
              "labeled-data  399.13983662297653  211.16388249959422  445.54931334314057   \n",
              "labeled-data  455.25402866924964  232.31496514235448   413.7845002636873   \n",
              "labeled-data   240.0819473196335   85.99794982461566   261.2079334885049   \n",
              "labeled-data  362.92564467195984  188.49810494025093  377.79207938338783   \n",
              "labeled-data   192.3528674566278   217.4485304309266   193.1353113888082   \n",
              "\n",
              "               mouse1_rightear_y  ... mouse2_rightear_x mouse2_rightear_y  \\\n",
              "scorer                            ...                                       \n",
              "labeled-data   206.6361286732367  ...               NaN               NaN   \n",
              "labeled-data  241.70429232851956  ...               NaN               NaN   \n",
              "labeled-data   88.34528162115691  ...               NaN               NaN   \n",
              "labeled-data  190.06299280461172  ...               NaN               NaN   \n",
              "labeled-data   216.6660864987462  ...               NaN               NaN   \n",
              "\n",
              "             mouse2_leftHip_x mouse2_leftHip_y mouse2_rightHip_x  \\\n",
              "scorer                                                             \n",
              "labeled-data              NaN              NaN               NaN   \n",
              "labeled-data              NaN              NaN               NaN   \n",
              "labeled-data              NaN              NaN               NaN   \n",
              "labeled-data              NaN              NaN               NaN   \n",
              "labeled-data              NaN              NaN               NaN   \n",
              "\n",
              "             mouse2_rightHip_y mouse2_tailBase_x mouse2_tailBase_y  \\\n",
              "scorer                                                               \n",
              "labeled-data               NaN               NaN               NaN   \n",
              "labeled-data               NaN               NaN               NaN   \n",
              "labeled-data               NaN               NaN               NaN   \n",
              "labeled-data               NaN               NaN               NaN   \n",
              "labeled-data               NaN               NaN               NaN   \n",
              "\n",
              "             mouse2_tailEnd_x mouse2_tailEnd_y  \n",
              "scorer                                          \n",
              "labeled-data              NaN              NaN  \n",
              "labeled-data              NaN              NaN  \n",
              "labeled-data              NaN              NaN  \n",
              "labeled-data              NaN              NaN  \n",
              "labeled-data              NaN              NaN  \n",
              "\n",
              "[5 rows x 36 columns]"
            ],
            "text/html": [
              "\n",
              "  <div id=\"df-a7362735-2ff7-4679-9cc0-b64ab34366d8\">\n",
              "    <div class=\"colab-df-container\">\n",
              "      <div>\n",
              "<style scoped>\n",
              "    .dataframe tbody tr th:only-of-type {\n",
              "        vertical-align: middle;\n",
              "    }\n",
              "\n",
              "    .dataframe tbody tr th {\n",
              "        vertical-align: top;\n",
              "    }\n",
              "\n",
              "    .dataframe thead th {\n",
              "        text-align: right;\n",
              "    }\n",
              "</style>\n",
              "<table border=\"1\" class=\"dataframe\">\n",
              "  <thead>\n",
              "    <tr style=\"text-align: right;\">\n",
              "      <th></th>\n",
              "      <th>mouse1_topleft_x</th>\n",
              "      <th>mouse1_topleft_y</th>\n",
              "      <th>mouse1_rightdown_x</th>\n",
              "      <th>mouse1_rightdown_y</th>\n",
              "      <th>mouse1_nose_x</th>\n",
              "      <th>mouse1_nose_y</th>\n",
              "      <th>mouse1_leftear_x</th>\n",
              "      <th>mouse1_leftear_y</th>\n",
              "      <th>mouse1_rightear_x</th>\n",
              "      <th>mouse1_rightear_y</th>\n",
              "      <th>...</th>\n",
              "      <th>mouse2_rightear_x</th>\n",
              "      <th>mouse2_rightear_y</th>\n",
              "      <th>mouse2_leftHip_x</th>\n",
              "      <th>mouse2_leftHip_y</th>\n",
              "      <th>mouse2_rightHip_x</th>\n",
              "      <th>mouse2_rightHip_y</th>\n",
              "      <th>mouse2_tailBase_x</th>\n",
              "      <th>mouse2_tailBase_y</th>\n",
              "      <th>mouse2_tailEnd_x</th>\n",
              "      <th>mouse2_tailEnd_y</th>\n",
              "    </tr>\n",
              "    <tr>\n",
              "      <th>scorer</th>\n",
              "      <th></th>\n",
              "      <th></th>\n",
              "      <th></th>\n",
              "      <th></th>\n",
              "      <th></th>\n",
              "      <th></th>\n",
              "      <th></th>\n",
              "      <th></th>\n",
              "      <th></th>\n",
              "      <th></th>\n",
              "      <th></th>\n",
              "      <th></th>\n",
              "      <th></th>\n",
              "      <th></th>\n",
              "      <th></th>\n",
              "      <th></th>\n",
              "      <th></th>\n",
              "      <th></th>\n",
              "      <th></th>\n",
              "      <th></th>\n",
              "      <th></th>\n",
              "    </tr>\n",
              "  </thead>\n",
              "  <tbody>\n",
              "    <tr>\n",
              "      <th>labeled-data</th>\n",
              "      <td>235.0087604175184</td>\n",
              "      <td>187.39317491121764</td>\n",
              "      <td>481.7713439540003</td>\n",
              "      <td>315.30222050581585</td>\n",
              "      <td>418.38279038499576</td>\n",
              "      <td>211.16388249959422</td>\n",
              "      <td>399.13983662297653</td>\n",
              "      <td>211.16388249959422</td>\n",
              "      <td>445.54931334314057</td>\n",
              "      <td>206.6361286732367</td>\n",
              "      <td>...</td>\n",
              "      <td>NaN</td>\n",
              "      <td>NaN</td>\n",
              "      <td>NaN</td>\n",
              "      <td>NaN</td>\n",
              "      <td>NaN</td>\n",
              "      <td>NaN</td>\n",
              "      <td>NaN</td>\n",
              "      <td>NaN</td>\n",
              "      <td>NaN</td>\n",
              "      <td>NaN</td>\n",
              "    </tr>\n",
              "    <tr>\n",
              "      <th>labeled-data</th>\n",
              "      <td>234.60483979437058</td>\n",
              "      <td>204.14698358385942</td>\n",
              "      <td>457.6013604657909</td>\n",
              "      <td>307.42958263167503</td>\n",
              "      <td>439.6051500256412</td>\n",
              "      <td>300.3875872420512</td>\n",
              "      <td>455.25402866924964</td>\n",
              "      <td>232.31496514235448</td>\n",
              "      <td>413.7845002636873</td>\n",
              "      <td>241.70429232851956</td>\n",
              "      <td>...</td>\n",
              "      <td>NaN</td>\n",
              "      <td>NaN</td>\n",
              "      <td>NaN</td>\n",
              "      <td>NaN</td>\n",
              "      <td>NaN</td>\n",
              "      <td>NaN</td>\n",
              "      <td>NaN</td>\n",
              "      <td>NaN</td>\n",
              "      <td>NaN</td>\n",
              "      <td>NaN</td>\n",
              "    </tr>\n",
              "    <tr>\n",
              "      <th>labeled-data</th>\n",
              "      <td>225.2155126082055</td>\n",
              "      <td>80.5208422993527</td>\n",
              "      <td>288.5934711148197</td>\n",
              "      <td>222.92563795618952</td>\n",
              "      <td>249.4712745057986</td>\n",
              "      <td>100.86438453604367</td>\n",
              "      <td>240.0819473196335</td>\n",
              "      <td>85.99794982461566</td>\n",
              "      <td>261.2079334885049</td>\n",
              "      <td>88.34528162115691</td>\n",
              "      <td>...</td>\n",
              "      <td>NaN</td>\n",
              "      <td>NaN</td>\n",
              "      <td>NaN</td>\n",
              "      <td>NaN</td>\n",
              "      <td>NaN</td>\n",
              "      <td>NaN</td>\n",
              "      <td>NaN</td>\n",
              "      <td>NaN</td>\n",
              "      <td>NaN</td>\n",
              "      <td>NaN</td>\n",
              "    </tr>\n",
              "    <tr>\n",
              "      <th>labeled-data</th>\n",
              "      <td>315.97900874113446</td>\n",
              "      <td>182.23855348280756</td>\n",
              "      <td>387.9638505017333</td>\n",
              "      <td>244.83406805724127</td>\n",
              "      <td>384.0516308408312</td>\n",
              "      <td>204.92942751603977</td>\n",
              "      <td>362.92564467195984</td>\n",
              "      <td>188.49810494025093</td>\n",
              "      <td>377.79207938338783</td>\n",
              "      <td>190.06299280461172</td>\n",
              "      <td>...</td>\n",
              "      <td>NaN</td>\n",
              "      <td>NaN</td>\n",
              "      <td>NaN</td>\n",
              "      <td>NaN</td>\n",
              "      <td>NaN</td>\n",
              "      <td>NaN</td>\n",
              "      <td>NaN</td>\n",
              "      <td>NaN</td>\n",
              "      <td>NaN</td>\n",
              "      <td>NaN</td>\n",
              "    </tr>\n",
              "    <tr>\n",
              "      <th>labeled-data</th>\n",
              "      <td>146.97111939016332</td>\n",
              "      <td>216.6660864987462</td>\n",
              "      <td>362.1432007397794</td>\n",
              "      <td>330.90290059708775</td>\n",
              "      <td>164.1848858981326</td>\n",
              "      <td>223.70808188837003</td>\n",
              "      <td>192.3528674566278</td>\n",
              "      <td>217.4485304309266</td>\n",
              "      <td>193.1353113888082</td>\n",
              "      <td>216.6660864987462</td>\n",
              "      <td>...</td>\n",
              "      <td>NaN</td>\n",
              "      <td>NaN</td>\n",
              "      <td>NaN</td>\n",
              "      <td>NaN</td>\n",
              "      <td>NaN</td>\n",
              "      <td>NaN</td>\n",
              "      <td>NaN</td>\n",
              "      <td>NaN</td>\n",
              "      <td>NaN</td>\n",
              "      <td>NaN</td>\n",
              "    </tr>\n",
              "  </tbody>\n",
              "</table>\n",
              "<p>5 rows × 36 columns</p>\n",
              "</div>\n",
              "      <button class=\"colab-df-convert\" onclick=\"convertToInteractive('df-a7362735-2ff7-4679-9cc0-b64ab34366d8')\"\n",
              "              title=\"Convert this dataframe to an interactive table.\"\n",
              "              style=\"display:none;\">\n",
              "        \n",
              "  <svg xmlns=\"http://www.w3.org/2000/svg\" height=\"24px\"viewBox=\"0 0 24 24\"\n",
              "       width=\"24px\">\n",
              "    <path d=\"M0 0h24v24H0V0z\" fill=\"none\"/>\n",
              "    <path d=\"M18.56 5.44l.94 2.06.94-2.06 2.06-.94-2.06-.94-.94-2.06-.94 2.06-2.06.94zm-11 1L8.5 8.5l.94-2.06 2.06-.94-2.06-.94L8.5 2.5l-.94 2.06-2.06.94zm10 10l.94 2.06.94-2.06 2.06-.94-2.06-.94-.94-2.06-.94 2.06-2.06.94z\"/><path d=\"M17.41 7.96l-1.37-1.37c-.4-.4-.92-.59-1.43-.59-.52 0-1.04.2-1.43.59L10.3 9.45l-7.72 7.72c-.78.78-.78 2.05 0 2.83L4 21.41c.39.39.9.59 1.41.59.51 0 1.02-.2 1.41-.59l7.78-7.78 2.81-2.81c.8-.78.8-2.07 0-2.86zM5.41 20L4 18.59l7.72-7.72 1.47 1.35L5.41 20z\"/>\n",
              "  </svg>\n",
              "      </button>\n",
              "      \n",
              "  <style>\n",
              "    .colab-df-container {\n",
              "      display:flex;\n",
              "      flex-wrap:wrap;\n",
              "      gap: 12px;\n",
              "    }\n",
              "\n",
              "    .colab-df-convert {\n",
              "      background-color: #E8F0FE;\n",
              "      border: none;\n",
              "      border-radius: 50%;\n",
              "      cursor: pointer;\n",
              "      display: none;\n",
              "      fill: #1967D2;\n",
              "      height: 32px;\n",
              "      padding: 0 0 0 0;\n",
              "      width: 32px;\n",
              "    }\n",
              "\n",
              "    .colab-df-convert:hover {\n",
              "      background-color: #E2EBFA;\n",
              "      box-shadow: 0px 1px 2px rgba(60, 64, 67, 0.3), 0px 1px 3px 1px rgba(60, 64, 67, 0.15);\n",
              "      fill: #174EA6;\n",
              "    }\n",
              "\n",
              "    [theme=dark] .colab-df-convert {\n",
              "      background-color: #3B4455;\n",
              "      fill: #D2E3FC;\n",
              "    }\n",
              "\n",
              "    [theme=dark] .colab-df-convert:hover {\n",
              "      background-color: #434B5C;\n",
              "      box-shadow: 0px 1px 3px 1px rgba(0, 0, 0, 0.15);\n",
              "      filter: drop-shadow(0px 1px 2px rgba(0, 0, 0, 0.3));\n",
              "      fill: #FFFFFF;\n",
              "    }\n",
              "  </style>\n",
              "\n",
              "      <script>\n",
              "        const buttonEl =\n",
              "          document.querySelector('#df-a7362735-2ff7-4679-9cc0-b64ab34366d8 button.colab-df-convert');\n",
              "        buttonEl.style.display =\n",
              "          google.colab.kernel.accessAllowed ? 'block' : 'none';\n",
              "\n",
              "        async function convertToInteractive(key) {\n",
              "          const element = document.querySelector('#df-a7362735-2ff7-4679-9cc0-b64ab34366d8');\n",
              "          const dataTable =\n",
              "            await google.colab.kernel.invokeFunction('convertToInteractive',\n",
              "                                                     [key], {});\n",
              "          if (!dataTable) return;\n",
              "\n",
              "          const docLinkHtml = 'Like what you see? Visit the ' +\n",
              "            '<a target=\"_blank\" href=https://colab.research.google.com/notebooks/data_table.ipynb>data table notebook</a>'\n",
              "            + ' to learn more about interactive tables.';\n",
              "          element.innerHTML = '';\n",
              "          dataTable['output_type'] = 'display_data';\n",
              "          await google.colab.output.renderOutput(dataTable, element);\n",
              "          const docLink = document.createElement('div');\n",
              "          docLink.innerHTML = docLinkHtml;\n",
              "          element.appendChild(docLink);\n",
              "        }\n",
              "      </script>\n",
              "    </div>\n",
              "  </div>\n",
              "  "
            ]
          },
          "metadata": {},
          "execution_count": 5
        }
      ]
    },
    {
      "cell_type": "code",
      "source": [
        "print(df.columns)"
      ],
      "metadata": {
        "colab": {
          "base_uri": "https://localhost:8080/"
        },
        "id": "VFjS0Q3KPwvc",
        "outputId": "50c81b50-acbf-4187-a2ae-f91b0bfd4ce0"
      },
      "execution_count": 6,
      "outputs": [
        {
          "output_type": "stream",
          "name": "stdout",
          "text": [
            "Index(['mouse1_topleft_x', 'mouse1_topleft_y', 'mouse1_rightdown_x',\n",
            "       'mouse1_rightdown_y', 'mouse1_nose_x', 'mouse1_nose_y',\n",
            "       'mouse1_leftear_x', 'mouse1_leftear_y', 'mouse1_rightear_x',\n",
            "       'mouse1_rightear_y', 'mouse1_leftHip_x', 'mouse1_leftHip_y',\n",
            "       'mouse1_rightHip_x', 'mouse1_rightHip_y', 'mouse1_tailBase_x',\n",
            "       'mouse1_tailBase_y', 'mouse1_tailEnd_x', 'mouse1_tailEnd_y',\n",
            "       'mouse2_topleft_x', 'mouse2_topleft_y', 'mouse2_rightdown_x',\n",
            "       'mouse2_rightdown_y', 'mouse2_nose_x', 'mouse2_nose_y',\n",
            "       'mouse2_leftear_x', 'mouse2_leftear_y', 'mouse2_rightear_x',\n",
            "       'mouse2_rightear_y', 'mouse2_leftHip_x', 'mouse2_leftHip_y',\n",
            "       'mouse2_rightHip_x', 'mouse2_rightHip_y', 'mouse2_tailBase_x',\n",
            "       'mouse2_tailBase_y', 'mouse2_tailEnd_x', 'mouse2_tailEnd_y'],\n",
            "      dtype='object')\n"
          ]
        }
      ]
    },
    {
      "cell_type": "code",
      "source": [
        "col_names=['mouse_topleft_x', 'mouse_topleft_y', 'mouse_rightdown_x',\n",
        "       'mouse_rightdown_y', 'mouse_nose_x', 'mouse_nose_y',\n",
        "       'mouse_leftear_x', 'mouse_leftear_y', 'mouse_rightear_x',\n",
        "       'mouse_rightear_y', 'mouse_leftHip_x', 'mouse_leftHip_y',\n",
        "       'mouse_rightHip_x', 'mouse_rightHip_y', 'mouse_tailBase_x',\n",
        "       'mouse_tailBase_y', 'mouse_tailEnd_x', 'mouse_tailEnd_y']\n",
        "mouse1=df.iloc[:,:18]\n",
        "mouse1.columns=col_names\n",
        "mouse2=df.iloc[:,18:]\n",
        "mouse2.columns=col_names\n",
        "mouse=pd.concat([mouse1,mouse2])"
      ],
      "metadata": {
        "id": "yxrEm3JXQylO"
      },
      "execution_count": 7,
      "outputs": []
    },
    {
      "cell_type": "code",
      "source": [
        "mouse.head()"
      ],
      "metadata": {
        "colab": {
          "base_uri": "https://localhost:8080/",
          "height": 388
        },
        "id": "HjQ2zDhYT4JJ",
        "outputId": "3e166af9-38e6-468f-f4b2-5b13d9ebd1eb"
      },
      "execution_count": 8,
      "outputs": [
        {
          "output_type": "execute_result",
          "data": {
            "text/plain": [
              "                 mouse_topleft_x     mouse_topleft_y  mouse_rightdown_x  \\\n",
              "scorer                                                                    \n",
              "labeled-data   235.0087604175184  187.39317491121764  481.7713439540003   \n",
              "labeled-data  234.60483979437058  204.14698358385942  457.6013604657909   \n",
              "labeled-data   225.2155126082055    80.5208422993527  288.5934711148197   \n",
              "labeled-data  315.97900874113446  182.23855348280756  387.9638505017333   \n",
              "labeled-data  146.97111939016332   216.6660864987462  362.1432007397794   \n",
              "\n",
              "               mouse_rightdown_y        mouse_nose_x        mouse_nose_y  \\\n",
              "scorer                                                                     \n",
              "labeled-data  315.30222050581585  418.38279038499576  211.16388249959422   \n",
              "labeled-data  307.42958263167503   439.6051500256412   300.3875872420512   \n",
              "labeled-data  222.92563795618952   249.4712745057986  100.86438453604367   \n",
              "labeled-data  244.83406805724127   384.0516308408312  204.92942751603977   \n",
              "labeled-data  330.90290059708775   164.1848858981326  223.70808188837003   \n",
              "\n",
              "                 mouse_leftear_x     mouse_leftear_y    mouse_rightear_x  \\\n",
              "scorer                                                                     \n",
              "labeled-data  399.13983662297653  211.16388249959422  445.54931334314057   \n",
              "labeled-data  455.25402866924964  232.31496514235448   413.7845002636873   \n",
              "labeled-data   240.0819473196335   85.99794982461566   261.2079334885049   \n",
              "labeled-data  362.92564467195984  188.49810494025093  377.79207938338783   \n",
              "labeled-data   192.3528674566278   217.4485304309266   193.1353113888082   \n",
              "\n",
              "                mouse_rightear_y     mouse_leftHip_x     mouse_leftHip_y  \\\n",
              "scorer                                                                     \n",
              "labeled-data   206.6361286732367  400.27177507956594  292.66345137402857   \n",
              "labeled-data  241.70429232851956  384.83407477301165  250.31117558250423   \n",
              "labeled-data   88.34528162115691  233.82239586219015  159.54767944957536   \n",
              "labeled-data  190.06299280461172   323.0210041307583   201.7996517873181   \n",
              "labeled-data   216.6660864987462   224.4330686760251  311.34180229257726   \n",
              "\n",
              "                mouse_rightHip_x    mouse_rightHip_y    mouse_tailBase_x  \\\n",
              "scorer                                                                     \n",
              "labeled-data   467.0561440183385    275.684374525188  418.38279038499576   \n",
              "labeled-data  353.53631748579477   259.7005027686693   337.8874388421863   \n",
              "labeled-data   263.5552652850462  153.28812799213193  254.94838203106156   \n",
              "labeled-data  353.53631748579477  218.23097436310695   323.8034480629387   \n",
              "labeled-data   279.9865878608351  273.78449354791695   295.6354665044435   \n",
              "\n",
              "                mouse_tailBase_y     mouse_tailEnd_x     mouse_tailEnd_y  \n",
              "scorer                                                                    \n",
              "labeled-data   301.7189590267435  251.98783726635892  302.85089748333303  \n",
              "labeled-data   254.2233952434064  245.55905484489648   262.8302784973911  \n",
              "labeled-data  172.84922629664254  285.46369538609804  221.36075009182866  \n",
              "labeled-data   215.8836425665657  328.49811165602125  245.61651198942172  \n",
              "labeled-data  298.82269937769047  359.01342501105773   284.7387085984428  "
            ],
            "text/html": [
              "\n",
              "  <div id=\"df-2cfc5b3b-e0ea-42be-858e-fbdd354f2979\">\n",
              "    <div class=\"colab-df-container\">\n",
              "      <div>\n",
              "<style scoped>\n",
              "    .dataframe tbody tr th:only-of-type {\n",
              "        vertical-align: middle;\n",
              "    }\n",
              "\n",
              "    .dataframe tbody tr th {\n",
              "        vertical-align: top;\n",
              "    }\n",
              "\n",
              "    .dataframe thead th {\n",
              "        text-align: right;\n",
              "    }\n",
              "</style>\n",
              "<table border=\"1\" class=\"dataframe\">\n",
              "  <thead>\n",
              "    <tr style=\"text-align: right;\">\n",
              "      <th></th>\n",
              "      <th>mouse_topleft_x</th>\n",
              "      <th>mouse_topleft_y</th>\n",
              "      <th>mouse_rightdown_x</th>\n",
              "      <th>mouse_rightdown_y</th>\n",
              "      <th>mouse_nose_x</th>\n",
              "      <th>mouse_nose_y</th>\n",
              "      <th>mouse_leftear_x</th>\n",
              "      <th>mouse_leftear_y</th>\n",
              "      <th>mouse_rightear_x</th>\n",
              "      <th>mouse_rightear_y</th>\n",
              "      <th>mouse_leftHip_x</th>\n",
              "      <th>mouse_leftHip_y</th>\n",
              "      <th>mouse_rightHip_x</th>\n",
              "      <th>mouse_rightHip_y</th>\n",
              "      <th>mouse_tailBase_x</th>\n",
              "      <th>mouse_tailBase_y</th>\n",
              "      <th>mouse_tailEnd_x</th>\n",
              "      <th>mouse_tailEnd_y</th>\n",
              "    </tr>\n",
              "    <tr>\n",
              "      <th>scorer</th>\n",
              "      <th></th>\n",
              "      <th></th>\n",
              "      <th></th>\n",
              "      <th></th>\n",
              "      <th></th>\n",
              "      <th></th>\n",
              "      <th></th>\n",
              "      <th></th>\n",
              "      <th></th>\n",
              "      <th></th>\n",
              "      <th></th>\n",
              "      <th></th>\n",
              "      <th></th>\n",
              "      <th></th>\n",
              "      <th></th>\n",
              "      <th></th>\n",
              "      <th></th>\n",
              "      <th></th>\n",
              "    </tr>\n",
              "  </thead>\n",
              "  <tbody>\n",
              "    <tr>\n",
              "      <th>labeled-data</th>\n",
              "      <td>235.0087604175184</td>\n",
              "      <td>187.39317491121764</td>\n",
              "      <td>481.7713439540003</td>\n",
              "      <td>315.30222050581585</td>\n",
              "      <td>418.38279038499576</td>\n",
              "      <td>211.16388249959422</td>\n",
              "      <td>399.13983662297653</td>\n",
              "      <td>211.16388249959422</td>\n",
              "      <td>445.54931334314057</td>\n",
              "      <td>206.6361286732367</td>\n",
              "      <td>400.27177507956594</td>\n",
              "      <td>292.66345137402857</td>\n",
              "      <td>467.0561440183385</td>\n",
              "      <td>275.684374525188</td>\n",
              "      <td>418.38279038499576</td>\n",
              "      <td>301.7189590267435</td>\n",
              "      <td>251.98783726635892</td>\n",
              "      <td>302.85089748333303</td>\n",
              "    </tr>\n",
              "    <tr>\n",
              "      <th>labeled-data</th>\n",
              "      <td>234.60483979437058</td>\n",
              "      <td>204.14698358385942</td>\n",
              "      <td>457.6013604657909</td>\n",
              "      <td>307.42958263167503</td>\n",
              "      <td>439.6051500256412</td>\n",
              "      <td>300.3875872420512</td>\n",
              "      <td>455.25402866924964</td>\n",
              "      <td>232.31496514235448</td>\n",
              "      <td>413.7845002636873</td>\n",
              "      <td>241.70429232851956</td>\n",
              "      <td>384.83407477301165</td>\n",
              "      <td>250.31117558250423</td>\n",
              "      <td>353.53631748579477</td>\n",
              "      <td>259.7005027686693</td>\n",
              "      <td>337.8874388421863</td>\n",
              "      <td>254.2233952434064</td>\n",
              "      <td>245.55905484489648</td>\n",
              "      <td>262.8302784973911</td>\n",
              "    </tr>\n",
              "    <tr>\n",
              "      <th>labeled-data</th>\n",
              "      <td>225.2155126082055</td>\n",
              "      <td>80.5208422993527</td>\n",
              "      <td>288.5934711148197</td>\n",
              "      <td>222.92563795618952</td>\n",
              "      <td>249.4712745057986</td>\n",
              "      <td>100.86438453604367</td>\n",
              "      <td>240.0819473196335</td>\n",
              "      <td>85.99794982461566</td>\n",
              "      <td>261.2079334885049</td>\n",
              "      <td>88.34528162115691</td>\n",
              "      <td>233.82239586219015</td>\n",
              "      <td>159.54767944957536</td>\n",
              "      <td>263.5552652850462</td>\n",
              "      <td>153.28812799213193</td>\n",
              "      <td>254.94838203106156</td>\n",
              "      <td>172.84922629664254</td>\n",
              "      <td>285.46369538609804</td>\n",
              "      <td>221.36075009182866</td>\n",
              "    </tr>\n",
              "    <tr>\n",
              "      <th>labeled-data</th>\n",
              "      <td>315.97900874113446</td>\n",
              "      <td>182.23855348280756</td>\n",
              "      <td>387.9638505017333</td>\n",
              "      <td>244.83406805724127</td>\n",
              "      <td>384.0516308408312</td>\n",
              "      <td>204.92942751603977</td>\n",
              "      <td>362.92564467195984</td>\n",
              "      <td>188.49810494025093</td>\n",
              "      <td>377.79207938338783</td>\n",
              "      <td>190.06299280461172</td>\n",
              "      <td>323.0210041307583</td>\n",
              "      <td>201.7996517873181</td>\n",
              "      <td>353.53631748579477</td>\n",
              "      <td>218.23097436310695</td>\n",
              "      <td>323.8034480629387</td>\n",
              "      <td>215.8836425665657</td>\n",
              "      <td>328.49811165602125</td>\n",
              "      <td>245.61651198942172</td>\n",
              "    </tr>\n",
              "    <tr>\n",
              "      <th>labeled-data</th>\n",
              "      <td>146.97111939016332</td>\n",
              "      <td>216.6660864987462</td>\n",
              "      <td>362.1432007397794</td>\n",
              "      <td>330.90290059708775</td>\n",
              "      <td>164.1848858981326</td>\n",
              "      <td>223.70808188837003</td>\n",
              "      <td>192.3528674566278</td>\n",
              "      <td>217.4485304309266</td>\n",
              "      <td>193.1353113888082</td>\n",
              "      <td>216.6660864987462</td>\n",
              "      <td>224.4330686760251</td>\n",
              "      <td>311.34180229257726</td>\n",
              "      <td>279.9865878608351</td>\n",
              "      <td>273.78449354791695</td>\n",
              "      <td>295.6354665044435</td>\n",
              "      <td>298.82269937769047</td>\n",
              "      <td>359.01342501105773</td>\n",
              "      <td>284.7387085984428</td>\n",
              "    </tr>\n",
              "  </tbody>\n",
              "</table>\n",
              "</div>\n",
              "      <button class=\"colab-df-convert\" onclick=\"convertToInteractive('df-2cfc5b3b-e0ea-42be-858e-fbdd354f2979')\"\n",
              "              title=\"Convert this dataframe to an interactive table.\"\n",
              "              style=\"display:none;\">\n",
              "        \n",
              "  <svg xmlns=\"http://www.w3.org/2000/svg\" height=\"24px\"viewBox=\"0 0 24 24\"\n",
              "       width=\"24px\">\n",
              "    <path d=\"M0 0h24v24H0V0z\" fill=\"none\"/>\n",
              "    <path d=\"M18.56 5.44l.94 2.06.94-2.06 2.06-.94-2.06-.94-.94-2.06-.94 2.06-2.06.94zm-11 1L8.5 8.5l.94-2.06 2.06-.94-2.06-.94L8.5 2.5l-.94 2.06-2.06.94zm10 10l.94 2.06.94-2.06 2.06-.94-2.06-.94-.94-2.06-.94 2.06-2.06.94z\"/><path d=\"M17.41 7.96l-1.37-1.37c-.4-.4-.92-.59-1.43-.59-.52 0-1.04.2-1.43.59L10.3 9.45l-7.72 7.72c-.78.78-.78 2.05 0 2.83L4 21.41c.39.39.9.59 1.41.59.51 0 1.02-.2 1.41-.59l7.78-7.78 2.81-2.81c.8-.78.8-2.07 0-2.86zM5.41 20L4 18.59l7.72-7.72 1.47 1.35L5.41 20z\"/>\n",
              "  </svg>\n",
              "      </button>\n",
              "      \n",
              "  <style>\n",
              "    .colab-df-container {\n",
              "      display:flex;\n",
              "      flex-wrap:wrap;\n",
              "      gap: 12px;\n",
              "    }\n",
              "\n",
              "    .colab-df-convert {\n",
              "      background-color: #E8F0FE;\n",
              "      border: none;\n",
              "      border-radius: 50%;\n",
              "      cursor: pointer;\n",
              "      display: none;\n",
              "      fill: #1967D2;\n",
              "      height: 32px;\n",
              "      padding: 0 0 0 0;\n",
              "      width: 32px;\n",
              "    }\n",
              "\n",
              "    .colab-df-convert:hover {\n",
              "      background-color: #E2EBFA;\n",
              "      box-shadow: 0px 1px 2px rgba(60, 64, 67, 0.3), 0px 1px 3px 1px rgba(60, 64, 67, 0.15);\n",
              "      fill: #174EA6;\n",
              "    }\n",
              "\n",
              "    [theme=dark] .colab-df-convert {\n",
              "      background-color: #3B4455;\n",
              "      fill: #D2E3FC;\n",
              "    }\n",
              "\n",
              "    [theme=dark] .colab-df-convert:hover {\n",
              "      background-color: #434B5C;\n",
              "      box-shadow: 0px 1px 3px 1px rgba(0, 0, 0, 0.15);\n",
              "      filter: drop-shadow(0px 1px 2px rgba(0, 0, 0, 0.3));\n",
              "      fill: #FFFFFF;\n",
              "    }\n",
              "  </style>\n",
              "\n",
              "      <script>\n",
              "        const buttonEl =\n",
              "          document.querySelector('#df-2cfc5b3b-e0ea-42be-858e-fbdd354f2979 button.colab-df-convert');\n",
              "        buttonEl.style.display =\n",
              "          google.colab.kernel.accessAllowed ? 'block' : 'none';\n",
              "\n",
              "        async function convertToInteractive(key) {\n",
              "          const element = document.querySelector('#df-2cfc5b3b-e0ea-42be-858e-fbdd354f2979');\n",
              "          const dataTable =\n",
              "            await google.colab.kernel.invokeFunction('convertToInteractive',\n",
              "                                                     [key], {});\n",
              "          if (!dataTable) return;\n",
              "\n",
              "          const docLinkHtml = 'Like what you see? Visit the ' +\n",
              "            '<a target=\"_blank\" href=https://colab.research.google.com/notebooks/data_table.ipynb>data table notebook</a>'\n",
              "            + ' to learn more about interactive tables.';\n",
              "          element.innerHTML = '';\n",
              "          dataTable['output_type'] = 'display_data';\n",
              "          await google.colab.output.renderOutput(dataTable, element);\n",
              "          const docLink = document.createElement('div');\n",
              "          docLink.innerHTML = docLinkHtml;\n",
              "          element.appendChild(docLink);\n",
              "        }\n",
              "      </script>\n",
              "    </div>\n",
              "  </div>\n",
              "  "
            ]
          },
          "metadata": {},
          "execution_count": 8
        }
      ]
    },
    {
      "cell_type": "code",
      "source": [
        "mouse.isna().sum()"
      ],
      "metadata": {
        "colab": {
          "base_uri": "https://localhost:8080/"
        },
        "id": "VZyi1hGvTMdV",
        "outputId": "2cc0452f-3346-4b41-bdd7-59ad4db7fa44"
      },
      "execution_count": 9,
      "outputs": [
        {
          "output_type": "execute_result",
          "data": {
            "text/plain": [
              "mouse_topleft_x      66\n",
              "mouse_topleft_y      66\n",
              "mouse_rightdown_x    65\n",
              "mouse_rightdown_y    65\n",
              "mouse_nose_x         65\n",
              "mouse_nose_y         65\n",
              "mouse_leftear_x      65\n",
              "mouse_leftear_y      65\n",
              "mouse_rightear_x     65\n",
              "mouse_rightear_y     65\n",
              "mouse_leftHip_x      65\n",
              "mouse_leftHip_y      65\n",
              "mouse_rightHip_x     65\n",
              "mouse_rightHip_y     65\n",
              "mouse_tailBase_x     66\n",
              "mouse_tailBase_y     66\n",
              "mouse_tailEnd_x      68\n",
              "mouse_tailEnd_y      68\n",
              "dtype: int64"
            ]
          },
          "metadata": {},
          "execution_count": 9
        }
      ]
    },
    {
      "cell_type": "code",
      "source": [
        "mouse=mouse.dropna()"
      ],
      "metadata": {
        "id": "78NOGqxGUIyl"
      },
      "execution_count": 10,
      "outputs": []
    },
    {
      "cell_type": "code",
      "source": [
        "mouse.isna().sum()"
      ],
      "metadata": {
        "colab": {
          "base_uri": "https://localhost:8080/"
        },
        "id": "YndEGOaohn5a",
        "outputId": "17d9d452-332e-4606-8d8d-0d4b5a7f8348"
      },
      "execution_count": 11,
      "outputs": [
        {
          "output_type": "execute_result",
          "data": {
            "text/plain": [
              "mouse_topleft_x      0\n",
              "mouse_topleft_y      0\n",
              "mouse_rightdown_x    0\n",
              "mouse_rightdown_y    0\n",
              "mouse_nose_x         0\n",
              "mouse_nose_y         0\n",
              "mouse_leftear_x      0\n",
              "mouse_leftear_y      0\n",
              "mouse_rightear_x     0\n",
              "mouse_rightear_y     0\n",
              "mouse_leftHip_x      0\n",
              "mouse_leftHip_y      0\n",
              "mouse_rightHip_x     0\n",
              "mouse_rightHip_y     0\n",
              "mouse_tailBase_x     0\n",
              "mouse_tailBase_y     0\n",
              "mouse_tailEnd_x      0\n",
              "mouse_tailEnd_y      0\n",
              "dtype: int64"
            ]
          },
          "metadata": {},
          "execution_count": 11
        }
      ]
    },
    {
      "cell_type": "code",
      "source": [
        "mouse.shape"
      ],
      "metadata": {
        "colab": {
          "base_uri": "https://localhost:8080/"
        },
        "id": "0baRPaKehuhD",
        "outputId": "f679ff9a-1f03-4400-b5de-a84ae96c9fa4"
      },
      "execution_count": 12,
      "outputs": [
        {
          "output_type": "execute_result",
          "data": {
            "text/plain": [
              "(171, 18)"
            ]
          },
          "metadata": {},
          "execution_count": 12
        }
      ]
    },
    {
      "cell_type": "code",
      "source": [
        "for i in mouse.columns:\n",
        "  mouse[i]=pd.to_numeric(mouse[i])"
      ],
      "metadata": {
        "id": "EETW6jGji8i0"
      },
      "execution_count": 13,
      "outputs": []
    },
    {
      "cell_type": "code",
      "source": [
        "mouse['location_x']=(mouse['mouse_rightdown_x']+mouse['mouse_topleft_x'])/2\n",
        "mouse['location_y']=(mouse['mouse_rightdown_y']+mouse['mouse_topleft_y'])/2"
      ],
      "metadata": {
        "id": "4O-7rLCpjEce"
      },
      "execution_count": 14,
      "outputs": []
    },
    {
      "cell_type": "code",
      "source": [
        "mouse.drop(columns=['mouse_topleft_x', 'mouse_topleft_y', 'mouse_rightdown_x',\n",
        "       'mouse_rightdown_y'],axis=1,inplace=True)"
      ],
      "metadata": {
        "id": "-RVA5UFGjxSa"
      },
      "execution_count": 15,
      "outputs": []
    },
    {
      "cell_type": "code",
      "source": [
        "mouse.columns"
      ],
      "metadata": {
        "colab": {
          "base_uri": "https://localhost:8080/"
        },
        "id": "gRP5L9lJj_b2",
        "outputId": "21377d5d-a53f-4a67-9810-4b2c2678131c"
      },
      "execution_count": 16,
      "outputs": [
        {
          "output_type": "execute_result",
          "data": {
            "text/plain": [
              "Index(['mouse_nose_x', 'mouse_nose_y', 'mouse_leftear_x', 'mouse_leftear_y',\n",
              "       'mouse_rightear_x', 'mouse_rightear_y', 'mouse_leftHip_x',\n",
              "       'mouse_leftHip_y', 'mouse_rightHip_x', 'mouse_rightHip_y',\n",
              "       'mouse_tailBase_x', 'mouse_tailBase_y', 'mouse_tailEnd_x',\n",
              "       'mouse_tailEnd_y', 'location_x', 'location_y'],\n",
              "      dtype='object')"
            ]
          },
          "metadata": {},
          "execution_count": 16
        }
      ]
    },
    {
      "cell_type": "markdown",
      "source": [
        "Splitting the data into predictors and response variables"
      ],
      "metadata": {
        "id": "NLaLdKpoI3vW"
      }
    },
    {
      "cell_type": "code",
      "source": [
        "X=mouse.iloc[:,:-2]\n",
        "Y=mouse.iloc[:,[-2,-1]]"
      ],
      "metadata": {
        "id": "dQifx202BCcP"
      },
      "execution_count": 17,
      "outputs": []
    },
    {
      "cell_type": "markdown",
      "source": [
        "Splitting the data into train and test with a test size of 30%"
      ],
      "metadata": {
        "id": "CT5NV4RrI9BT"
      }
    },
    {
      "cell_type": "code",
      "source": [
        "x_train,x_test,y_train,y_test=train_test_split(X,Y,test_size=0.3,random_state=0)"
      ],
      "metadata": {
        "id": "td-u3nDkBR0T"
      },
      "execution_count": 18,
      "outputs": []
    },
    {
      "cell_type": "markdown",
      "source": [
        "Building a Sequential Neural Network model with 14 input nodes, 5 hidden layers and 1 output layer with 2 nodes"
      ],
      "metadata": {
        "id": "O6kRlM-eJDMm"
      }
    },
    {
      "cell_type": "code",
      "source": [
        "model=Sequential()\n",
        "model.add(Dense(16,input_shape=(14,),activation='linear'))\n",
        "model.add(Dense(32,activation='linear'))\n",
        "model.add(Dense(64,activation='linear'))\n",
        "model.add(Dense(128,activation='linear'))\n",
        "model.add(Dense(64,activation='linear'))\n",
        "model.add(Dense(32,activation='linear'))\n",
        "model.add(Dense(16,activation='linear'))\n",
        "model.add(Dense(2,activation='linear'))"
      ],
      "metadata": {
        "id": "e49yxqBmBSKr"
      },
      "execution_count": 19,
      "outputs": []
    },
    {
      "cell_type": "markdown",
      "source": [
        "Compiling this model with L2 loss as loss function and evaluation metric"
      ],
      "metadata": {
        "id": "uTg1bRRPJPl7"
      }
    },
    {
      "cell_type": "code",
      "source": [
        "model.compile(loss='mean_squared_error', optimizer='adam', metrics=['mean_squared_error'])"
      ],
      "metadata": {
        "id": "NVT56f6wBnYm"
      },
      "execution_count": 20,
      "outputs": []
    },
    {
      "cell_type": "markdown",
      "source": [
        "Training the model"
      ],
      "metadata": {
        "id": "psLqfC5PJXXO"
      }
    },
    {
      "cell_type": "code",
      "source": [
        "history=model.fit(x_train,y_train,epochs=100,verbose=0,validation_split=0.1)"
      ],
      "metadata": {
        "id": "HY8ajCvOBsKY"
      },
      "execution_count": 21,
      "outputs": []
    },
    {
      "cell_type": "code",
      "source": [
        "hist = pd.DataFrame(history.history)\n",
        "hist['epoch'] = history.epoch\n",
        "hist.tail()"
      ],
      "metadata": {
        "id": "8bt34RjXB1Ab",
        "colab": {
          "base_uri": "https://localhost:8080/",
          "height": 206
        },
        "outputId": "3a816989-a559-4930-f8b9-4919f0b8ce9f"
      },
      "execution_count": 22,
      "outputs": [
        {
          "output_type": "execute_result",
          "data": {
            "text/plain": [
              "          loss  mean_squared_error    val_loss  val_mean_squared_error  epoch\n",
              "95   90.337814           90.337814  146.749924              146.749924     95\n",
              "96  113.889687          113.889687   58.125690               58.125690     96\n",
              "97  121.272873          121.272873   90.793449               90.793449     97\n",
              "98  158.589508          158.589508  250.844849              250.844849     98\n",
              "99  151.075272          151.075272   59.096954               59.096954     99"
            ],
            "text/html": [
              "\n",
              "  <div id=\"df-4fd4f43c-f5bc-4689-8034-47efcf8e35d3\">\n",
              "    <div class=\"colab-df-container\">\n",
              "      <div>\n",
              "<style scoped>\n",
              "    .dataframe tbody tr th:only-of-type {\n",
              "        vertical-align: middle;\n",
              "    }\n",
              "\n",
              "    .dataframe tbody tr th {\n",
              "        vertical-align: top;\n",
              "    }\n",
              "\n",
              "    .dataframe thead th {\n",
              "        text-align: right;\n",
              "    }\n",
              "</style>\n",
              "<table border=\"1\" class=\"dataframe\">\n",
              "  <thead>\n",
              "    <tr style=\"text-align: right;\">\n",
              "      <th></th>\n",
              "      <th>loss</th>\n",
              "      <th>mean_squared_error</th>\n",
              "      <th>val_loss</th>\n",
              "      <th>val_mean_squared_error</th>\n",
              "      <th>epoch</th>\n",
              "    </tr>\n",
              "  </thead>\n",
              "  <tbody>\n",
              "    <tr>\n",
              "      <th>95</th>\n",
              "      <td>90.337814</td>\n",
              "      <td>90.337814</td>\n",
              "      <td>146.749924</td>\n",
              "      <td>146.749924</td>\n",
              "      <td>95</td>\n",
              "    </tr>\n",
              "    <tr>\n",
              "      <th>96</th>\n",
              "      <td>113.889687</td>\n",
              "      <td>113.889687</td>\n",
              "      <td>58.125690</td>\n",
              "      <td>58.125690</td>\n",
              "      <td>96</td>\n",
              "    </tr>\n",
              "    <tr>\n",
              "      <th>97</th>\n",
              "      <td>121.272873</td>\n",
              "      <td>121.272873</td>\n",
              "      <td>90.793449</td>\n",
              "      <td>90.793449</td>\n",
              "      <td>97</td>\n",
              "    </tr>\n",
              "    <tr>\n",
              "      <th>98</th>\n",
              "      <td>158.589508</td>\n",
              "      <td>158.589508</td>\n",
              "      <td>250.844849</td>\n",
              "      <td>250.844849</td>\n",
              "      <td>98</td>\n",
              "    </tr>\n",
              "    <tr>\n",
              "      <th>99</th>\n",
              "      <td>151.075272</td>\n",
              "      <td>151.075272</td>\n",
              "      <td>59.096954</td>\n",
              "      <td>59.096954</td>\n",
              "      <td>99</td>\n",
              "    </tr>\n",
              "  </tbody>\n",
              "</table>\n",
              "</div>\n",
              "      <button class=\"colab-df-convert\" onclick=\"convertToInteractive('df-4fd4f43c-f5bc-4689-8034-47efcf8e35d3')\"\n",
              "              title=\"Convert this dataframe to an interactive table.\"\n",
              "              style=\"display:none;\">\n",
              "        \n",
              "  <svg xmlns=\"http://www.w3.org/2000/svg\" height=\"24px\"viewBox=\"0 0 24 24\"\n",
              "       width=\"24px\">\n",
              "    <path d=\"M0 0h24v24H0V0z\" fill=\"none\"/>\n",
              "    <path d=\"M18.56 5.44l.94 2.06.94-2.06 2.06-.94-2.06-.94-.94-2.06-.94 2.06-2.06.94zm-11 1L8.5 8.5l.94-2.06 2.06-.94-2.06-.94L8.5 2.5l-.94 2.06-2.06.94zm10 10l.94 2.06.94-2.06 2.06-.94-2.06-.94-.94-2.06-.94 2.06-2.06.94z\"/><path d=\"M17.41 7.96l-1.37-1.37c-.4-.4-.92-.59-1.43-.59-.52 0-1.04.2-1.43.59L10.3 9.45l-7.72 7.72c-.78.78-.78 2.05 0 2.83L4 21.41c.39.39.9.59 1.41.59.51 0 1.02-.2 1.41-.59l7.78-7.78 2.81-2.81c.8-.78.8-2.07 0-2.86zM5.41 20L4 18.59l7.72-7.72 1.47 1.35L5.41 20z\"/>\n",
              "  </svg>\n",
              "      </button>\n",
              "      \n",
              "  <style>\n",
              "    .colab-df-container {\n",
              "      display:flex;\n",
              "      flex-wrap:wrap;\n",
              "      gap: 12px;\n",
              "    }\n",
              "\n",
              "    .colab-df-convert {\n",
              "      background-color: #E8F0FE;\n",
              "      border: none;\n",
              "      border-radius: 50%;\n",
              "      cursor: pointer;\n",
              "      display: none;\n",
              "      fill: #1967D2;\n",
              "      height: 32px;\n",
              "      padding: 0 0 0 0;\n",
              "      width: 32px;\n",
              "    }\n",
              "\n",
              "    .colab-df-convert:hover {\n",
              "      background-color: #E2EBFA;\n",
              "      box-shadow: 0px 1px 2px rgba(60, 64, 67, 0.3), 0px 1px 3px 1px rgba(60, 64, 67, 0.15);\n",
              "      fill: #174EA6;\n",
              "    }\n",
              "\n",
              "    [theme=dark] .colab-df-convert {\n",
              "      background-color: #3B4455;\n",
              "      fill: #D2E3FC;\n",
              "    }\n",
              "\n",
              "    [theme=dark] .colab-df-convert:hover {\n",
              "      background-color: #434B5C;\n",
              "      box-shadow: 0px 1px 3px 1px rgba(0, 0, 0, 0.15);\n",
              "      filter: drop-shadow(0px 1px 2px rgba(0, 0, 0, 0.3));\n",
              "      fill: #FFFFFF;\n",
              "    }\n",
              "  </style>\n",
              "\n",
              "      <script>\n",
              "        const buttonEl =\n",
              "          document.querySelector('#df-4fd4f43c-f5bc-4689-8034-47efcf8e35d3 button.colab-df-convert');\n",
              "        buttonEl.style.display =\n",
              "          google.colab.kernel.accessAllowed ? 'block' : 'none';\n",
              "\n",
              "        async function convertToInteractive(key) {\n",
              "          const element = document.querySelector('#df-4fd4f43c-f5bc-4689-8034-47efcf8e35d3');\n",
              "          const dataTable =\n",
              "            await google.colab.kernel.invokeFunction('convertToInteractive',\n",
              "                                                     [key], {});\n",
              "          if (!dataTable) return;\n",
              "\n",
              "          const docLinkHtml = 'Like what you see? Visit the ' +\n",
              "            '<a target=\"_blank\" href=https://colab.research.google.com/notebooks/data_table.ipynb>data table notebook</a>'\n",
              "            + ' to learn more about interactive tables.';\n",
              "          element.innerHTML = '';\n",
              "          dataTable['output_type'] = 'display_data';\n",
              "          await google.colab.output.renderOutput(dataTable, element);\n",
              "          const docLink = document.createElement('div');\n",
              "          docLink.innerHTML = docLinkHtml;\n",
              "          element.appendChild(docLink);\n",
              "        }\n",
              "      </script>\n",
              "    </div>\n",
              "  </div>\n",
              "  "
            ]
          },
          "metadata": {},
          "execution_count": 22
        }
      ]
    },
    {
      "cell_type": "code",
      "source": [
        "plt.plot(history.history['loss'], label='loss')\n",
        "plt.plot(history.history['val_loss'], label='val_loss')\n",
        "plt.xlabel('Epoch')\n",
        "plt.ylabel('Error')\n",
        "plt.legend()\n",
        "plt.grid(True)"
      ],
      "metadata": {
        "colab": {
          "base_uri": "https://localhost:8080/",
          "height": 279
        },
        "id": "whOXt8M4B58g",
        "outputId": "e2bcbb45-4490-4b40-8e9a-ed1d1e27de5e"
      },
      "execution_count": 23,
      "outputs": [
        {
          "output_type": "display_data",
          "data": {
            "text/plain": [
              "<Figure size 432x288 with 1 Axes>"
            ],
            "image/png": "[encoded data removed]"
          },
          "metadata": {
            "needs_background": "light"
          }
        }
      ]
    },
    {
      "cell_type": "markdown",
      "source": [
        "Predicting using the unseen data"
      ],
      "metadata": {
        "id": "65-Iz2-VJe--"
      }
    },
    {
      "cell_type": "code",
      "source": [
        "y_pred=model.predict(x_test)"
      ],
      "metadata": {
        "colab": {
          "base_uri": "https://localhost:8080/"
        },
        "id": "P4yHOjAhB_ai",
        "outputId": "766d18db-80cc-473e-ee42-043a6b33f89c"
      },
      "execution_count": 24,
      "outputs": [
        {
          "output_type": "stream",
          "name": "stdout",
          "text": [
            "2/2 [==============================] - 0s 7ms/step\n"
          ]
        }
      ]
    },
    {
      "cell_type": "markdown",
      "source": [
        "Evaluating our model's predictions"
      ],
      "metadata": {
        "id": "3SDz1hIDJvcv"
      }
    },
    {
      "cell_type": "code",
      "source": [
        "print(\"R2 SCORE : \",r2_score(y_test,y_pred))"
      ],
      "metadata": {
        "colab": {
          "base_uri": "https://localhost:8080/"
        },
        "id": "yd4uPVIwCHvJ",
        "outputId": "2bdcb7eb-24a7-4006-c12a-beaac7f43fba"
      },
      "execution_count": 25,
      "outputs": [
        {
          "output_type": "stream",
          "name": "stdout",
          "text": [
            "R2 SCORE :  0.9636436820315957\n"
          ]
        }
      ]
    },
    {
      "cell_type": "code",
      "source": [
        "print(\"MEAN SQUARED ERROR : \",mean_squared_error(y_test,y_pred))"
      ],
      "metadata": {
        "colab": {
          "base_uri": "https://localhost:8080/"
        },
        "id": "GVz5XRQrJqMX",
        "outputId": "a923b52e-6f03-42af-d0f2-94b9edccda88"
      },
      "execution_count": 26,
      "outputs": [
        {
          "output_type": "stream",
          "name": "stdout",
          "text": [
            "MEAN SQUARED ERROR :  115.46748854457317\n"
          ]
        }
      ]
    },
    {
      "cell_type": "markdown",
      "source": [
        "Visualizing the actual and predicted location_x,location_y"
      ],
      "metadata": {
        "id": "gO4N73-nJurc"
      }
    },
    {
      "cell_type": "code",
      "source": [
        "plt.scatter(range(y_test.shape[0]),y_test.iloc[:,0],c=\"red\")\n",
        "plt.scatter(range(y_test.shape[0]),pd.DataFrame(y_pred).iloc[:,0])"
      ],
      "metadata": {
        "colab": {
          "base_uri": "https://localhost:8080/",
          "height": 283
        },
        "id": "GsWeEBrtCb7I",
        "outputId": "0375a321-42f7-4102-9c1e-a6fd69204ddc"
      },
      "execution_count": 32,
      "outputs": [
        {
          "output_type": "execute_result",
          "data": {
            "text/plain": [
              "<matplotlib.collections.PathCollection at 0x7fa7ec30d150>"
            ]
          },
          "metadata": {},
          "execution_count": 32
        },
        {
          "output_type": "display_data",
          "data": {
            "text/plain": [
              "<Figure size 432x288 with 1 Axes>"
            ],
            "image/png": "[encoded data removed]"
          },
          "metadata": {
            "needs_background": "light"
          }
        }
      ]
    },
    {
      "cell_type": "code",
      "source": [
        "plt.scatter(range(y_test.shape[0]),y_test.iloc[:,1],c=\"red\")\n",
        "plt.scatter(range(y_test.shape[0]),pd.DataFrame(y_pred).iloc[:,1])"
      ],
      "metadata": {
        "colab": {
          "base_uri": "https://localhost:8080/",
          "height": 283
        },
        "id": "jKF_4xI3C_UR",
        "outputId": "3beb2711-32ea-476f-c7b8-7ca1d1401831"
      },
      "execution_count": 33,
      "outputs": [
        {
          "output_type": "execute_result",
          "data": {
            "text/plain": [
              "<matplotlib.collections.PathCollection at 0x7fa7ec2cc9d0>"
            ]
          },
          "metadata": {},
          "execution_count": 33
        },
        {
          "output_type": "display_data",
          "data": {
            "text/plain": [
              "<Figure size 432x288 with 1 Axes>"
            ],
            "image/png": "[encoded data removed]"
          },
          "metadata": {
            "needs_background": "light"
          }
        }
      ]
    },
    {
      "cell_type": "code",
      "source": [
        "location=pd.DataFrame(y_test)\n",
        "location['predict_location_x']=[i[0] for i in y_pred]\n",
        "location['predict_location_y']=[i[1] for i in y_pred]\n",
        "location.head(10)"
      ],
      "metadata": {
        "id": "3y5xsvWtDU6t",
        "colab": {
          "base_uri": "https://localhost:8080/",
          "height": 394
        },
        "outputId": "86a54f7d-3d62-4e09-8aa6-f13fbbeea65c"
      },
      "execution_count": 30,
      "outputs": [
        {
          "output_type": "execute_result",
          "data": {
            "text/plain": [
              "              location_x  location_y  predict_location_x  predict_location_y\n",
              "scorer                                                                      \n",
              "labeled-data  283.116364  258.918059          277.170929          272.729553\n",
              "labeled-data  234.213618  272.219606          224.934769          264.230225\n",
              "labeled-data  260.816712  170.110673          269.374756          177.789291\n",
              "labeled-data  211.522744  193.975212          217.358368          212.742142\n",
              "labeled-data  236.560950  230.750077          241.128387          222.308792\n",
              "labeled-data  453.689141  242.486736          465.713226          252.996872\n",
              "labeled-data  177.095211  242.877958          184.717926          243.082550\n",
              "labeled-data  264.337709  272.610828          283.704498          284.065979\n",
              "labeled-data  266.293819  231.923743          269.025116          245.044571\n",
              "labeled-data  415.349388  271.828384          405.424591          270.899078"
            ],
            "text/html": [
              "\n",
              "  <div id=\"df-1e13d3b2-5d47-491d-a2eb-558888e0fec7\">\n",
              "    <div class=\"colab-df-container\">\n",
              "      <div>\n",
              "<style scoped>\n",
              "    .dataframe tbody tr th:only-of-type {\n",
              "        vertical-align: middle;\n",
              "    }\n",
              "\n",
              "    .dataframe tbody tr th {\n",
              "        vertical-align: top;\n",
              "    }\n",
              "\n",
              "    .dataframe thead th {\n",
              "        text-align: right;\n",
              "    }\n",
              "</style>\n",
              "<table border=\"1\" class=\"dataframe\">\n",
              "  <thead>\n",
              "    <tr style=\"text-align: right;\">\n",
              "      <th></th>\n",
              "      <th>location_x</th>\n",
              "      <th>location_y</th>\n",
              "      <th>predict_location_x</th>\n",
              "      <th>predict_location_y</th>\n",
              "    </tr>\n",
              "    <tr>\n",
              "      <th>scorer</th>\n",
              "      <th></th>\n",
              "      <th></th>\n",
              "      <th></th>\n",
              "      <th></th>\n",
              "    </tr>\n",
              "  </thead>\n",
              "  <tbody>\n",
              "    <tr>\n",
              "      <th>labeled-data</th>\n",
              "      <td>283.116364</td>\n",
              "      <td>258.918059</td>\n",
              "      <td>277.170929</td>\n",
              "      <td>272.729553</td>\n",
              "    </tr>\n",
              "    <tr>\n",
              "      <th>labeled-data</th>\n",
              "      <td>234.213618</td>\n",
              "      <td>272.219606</td>\n",
              "      <td>224.934769</td>\n",
              "      <td>264.230225</td>\n",
              "    </tr>\n",
              "    <tr>\n",
              "      <th>labeled-data</th>\n",
              "      <td>260.816712</td>\n",
              "      <td>170.110673</td>\n",
              "      <td>269.374756</td>\n",
              "      <td>177.789291</td>\n",
              "    </tr>\n",
              "    <tr>\n",
              "      <th>labeled-data</th>\n",
              "      <td>211.522744</td>\n",
              "      <td>193.975212</td>\n",
              "      <td>217.358368</td>\n",
              "      <td>212.742142</td>\n",
              "    </tr>\n",
              "    <tr>\n",
              "      <th>labeled-data</th>\n",
              "      <td>236.560950</td>\n",
              "      <td>230.750077</td>\n",
              "      <td>241.128387</td>\n",
              "      <td>222.308792</td>\n",
              "    </tr>\n",
              "    <tr>\n",
              "      <th>labeled-data</th>\n",
              "      <td>453.689141</td>\n",
              "      <td>242.486736</td>\n",
              "      <td>465.713226</td>\n",
              "      <td>252.996872</td>\n",
              "    </tr>\n",
              "    <tr>\n",
              "      <th>labeled-data</th>\n",
              "      <td>177.095211</td>\n",
              "      <td>242.877958</td>\n",
              "      <td>184.717926</td>\n",
              "      <td>243.082550</td>\n",
              "    </tr>\n",
              "    <tr>\n",
              "      <th>labeled-data</th>\n",
              "      <td>264.337709</td>\n",
              "      <td>272.610828</td>\n",
              "      <td>283.704498</td>\n",
              "      <td>284.065979</td>\n",
              "    </tr>\n",
              "    <tr>\n",
              "      <th>labeled-data</th>\n",
              "      <td>266.293819</td>\n",
              "      <td>231.923743</td>\n",
              "      <td>269.025116</td>\n",
              "      <td>245.044571</td>\n",
              "    </tr>\n",
              "    <tr>\n",
              "      <th>labeled-data</th>\n",
              "      <td>415.349388</td>\n",
              "      <td>271.828384</td>\n",
              "      <td>405.424591</td>\n",
              "      <td>270.899078</td>\n",
              "    </tr>\n",
              "  </tbody>\n",
              "</table>\n",
              "</div>\n",
              "      <button class=\"colab-df-convert\" onclick=\"convertToInteractive('df-1e13d3b2-5d47-491d-a2eb-558888e0fec7')\"\n",
              "              title=\"Convert this dataframe to an interactive table.\"\n",
              "              style=\"display:none;\">\n",
              "        \n",
              "  <svg xmlns=\"http://www.w3.org/2000/svg\" height=\"24px\"viewBox=\"0 0 24 24\"\n",
              "       width=\"24px\">\n",
              "    <path d=\"M0 0h24v24H0V0z\" fill=\"none\"/>\n",
              "    <path d=\"M18.56 5.44l.94 2.06.94-2.06 2.06-.94-2.06-.94-.94-2.06-.94 2.06-2.06.94zm-11 1L8.5 8.5l.94-2.06 2.06-.94-2.06-.94L8.5 2.5l-.94 2.06-2.06.94zm10 10l.94 2.06.94-2.06 2.06-.94-2.06-.94-.94-2.06-.94 2.06-2.06.94z\"/><path d=\"M17.41 7.96l-1.37-1.37c-.4-.4-.92-.59-1.43-.59-.52 0-1.04.2-1.43.59L10.3 9.45l-7.72 7.72c-.78.78-.78 2.05 0 2.83L4 21.41c.39.39.9.59 1.41.59.51 0 1.02-.2 1.41-.59l7.78-7.78 2.81-2.81c.8-.78.8-2.07 0-2.86zM5.41 20L4 18.59l7.72-7.72 1.47 1.35L5.41 20z\"/>\n",
              "  </svg>\n",
              "      </button>\n",
              "      \n",
              "  <style>\n",
              "    .colab-df-container {\n",
              "      display:flex;\n",
              "      flex-wrap:wrap;\n",
              "      gap: 12px;\n",
              "    }\n",
              "\n",
              "    .colab-df-convert {\n",
              "      background-color: #E8F0FE;\n",
              "      border: none;\n",
              "      border-radius: 50%;\n",
              "      cursor: pointer;\n",
              "      display: none;\n",
              "      fill: #1967D2;\n",
              "      height: 32px;\n",
              "      padding: 0 0 0 0;\n",
              "      width: 32px;\n",
              "    }\n",
              "\n",
              "    .colab-df-convert:hover {\n",
              "      background-color: #E2EBFA;\n",
              "      box-shadow: 0px 1px 2px rgba(60, 64, 67, 0.3), 0px 1px 3px 1px rgba(60, 64, 67, 0.15);\n",
              "      fill: #174EA6;\n",
              "    }\n",
              "\n",
              "    [theme=dark] .colab-df-convert {\n",
              "      background-color: #3B4455;\n",
              "      fill: #D2E3FC;\n",
              "    }\n",
              "\n",
              "    [theme=dark] .colab-df-convert:hover {\n",
              "      background-color: #434B5C;\n",
              "      box-shadow: 0px 1px 3px 1px rgba(0, 0, 0, 0.15);\n",
              "      filter: drop-shadow(0px 1px 2px rgba(0, 0, 0, 0.3));\n",
              "      fill: #FFFFFF;\n",
              "    }\n",
              "  </style>\n",
              "\n",
              "      <script>\n",
              "        const buttonEl =\n",
              "          document.querySelector('#df-1e13d3b2-5d47-491d-a2eb-558888e0fec7 button.colab-df-convert');\n",
              "        buttonEl.style.display =\n",
              "          google.colab.kernel.accessAllowed ? 'block' : 'none';\n",
              "\n",
              "        async function convertToInteractive(key) {\n",
              "          const element = document.querySelector('#df-1e13d3b2-5d47-491d-a2eb-558888e0fec7');\n",
              "          const dataTable =\n",
              "            await google.colab.kernel.invokeFunction('convertToInteractive',\n",
              "                                                     [key], {});\n",
              "          if (!dataTable) return;\n",
              "\n",
              "          const docLinkHtml = 'Like what you see? Visit the ' +\n",
              "            '<a target=\"_blank\" href=https://colab.research.google.com/notebooks/data_table.ipynb>data table notebook</a>'\n",
              "            + ' to learn more about interactive tables.';\n",
              "          element.innerHTML = '';\n",
              "          dataTable['output_type'] = 'display_data';\n",
              "          await google.colab.output.renderOutput(dataTable, element);\n",
              "          const docLink = document.createElement('div');\n",
              "          docLink.innerHTML = docLinkHtml;\n",
              "          element.appendChild(docLink);\n",
              "        }\n",
              "      </script>\n",
              "    </div>\n",
              "  </div>\n",
              "  "
            ]
          },
          "metadata": {},
          "execution_count": 30
        }
      ]
    },
    {
      "cell_type": "code",
      "source": [
        "model.summary()"
      ],
      "metadata": {
        "colab": {
          "base_uri": "https://localhost:8080/"
        },
        "id": "9g6jiHVBtV94",
        "outputId": "0226adf2-ab3e-4eeb-b8aa-0d780dd7aa86"
      },
      "execution_count": 31,
      "outputs": [
        {
          "output_type": "stream",
          "name": "stdout",
          "text": [
            "Model: \"sequential\"\n",
            "_________________________________________________________________\n",
            " Layer (type)                Output Shape              Param #   \n",
            "=================================================================\n",
            " dense (Dense)               (None, 16)                240       \n",
            "                                                                 \n",
            " dense_1 (Dense)             (None, 32)                544       \n",
            "                                                                 \n",
            " dense_2 (Dense)             (None, 64)                2112      \n",
            "                                                                 \n",
            " dense_3 (Dense)             (None, 128)               8320      \n",
            "                                                                 \n",
            " dense_4 (Dense)             (None, 64)                8256      \n",
            "                                                                 \n",
            " dense_5 (Dense)             (None, 32)                2080      \n",
            "                                                                 \n",
            " dense_6 (Dense)             (None, 16)                528       \n",
            "                                                                 \n",
            " dense_7 (Dense)             (None, 2)                 34        \n",
            "                                                                 \n",
            "=================================================================\n",
            "Total params: 22,114\n",
            "Trainable params: 22,114\n",
            "Non-trainable params: 0\n",
            "_________________________________________________________________\n"
          ]
        }
      ]
    },
    {
      "cell_type": "code",
      "source": [],
      "metadata": {
        "id": "oymyWKdWtXw7"
      },
      "execution_count": null,
      "outputs": []
    }
  ]
}